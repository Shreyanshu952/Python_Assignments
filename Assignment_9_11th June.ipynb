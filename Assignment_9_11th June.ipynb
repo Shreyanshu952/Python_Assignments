{
 "cells": [
  {
   "cell_type": "markdown",
   "id": "d6c4578a-5f09-4583-9ec2-d9193aa4d3ad",
   "metadata": {},
   "source": [
    "Q1. What is a lambda function in Python, and how does it differ from a regular function?\n",
    "\n",
    "Ans.1.\n",
    "\n",
    "Lambda functions in Python are small, anonymous functions that can be defined inline and used in the same way as regular functions. They are called anonymous because they do not have a name like a regular function.\n",
    "\n",
    "Lambda functions are different from regular functions in that they are defined using a single expression rather than a block of statements. They are typically used when you need a simple function for a short period of time and don't want to define a named function."
   ]
  },
  {
   "cell_type": "code",
   "execution_count": null,
   "id": "2ef36090-1474-4291-8681-19e6f0f6f920",
   "metadata": {},
   "outputs": [],
   "source": [
    "# It is defined using the lambda keyword, followed by the arguments and the expression, like this:\n",
    "\n",
    "lambda arguments: expression\n",
    "\n",
    "# I have shown the example of lambda function in below cell."
   ]
  },
  {
   "cell_type": "code",
   "execution_count": 3,
   "id": "18497c5f-5f7a-45f0-ba18-f4669a7bc470",
   "metadata": {},
   "outputs": [
    {
     "name": "stdout",
     "output_type": "stream",
     "text": [
      "30\n"
     ]
    }
   ],
   "source": [
    "sum1 = lambda x,y : x + y\n",
    "\n",
    "print(sum1(10,20))"
   ]
  },
  {
   "cell_type": "markdown",
   "id": "d05327d7-6274-48d2-95a6-2bb22586aac5",
   "metadata": {},
   "source": [
    "Q2.  Can a lambda function in Python have multiple arguments? If yes, how can you define and use them?\n",
    "\n",
    "Ans.2.\n",
    "\n",
    "Yes, a lambda function in Python can have multiple arguments, separated by commas.\n",
    "\n",
    "I have shown the example in the below cell."
   ]
  },
  {
   "cell_type": "code",
   "execution_count": 5,
   "id": "b9c23357-0bd9-4375-a950-147e1af0e64a",
   "metadata": {},
   "outputs": [
    {
     "name": "stdout",
     "output_type": "stream",
     "text": [
      "1875\n"
     ]
    }
   ],
   "source": [
    "multiplication = lambda x,y,z : x*y*z\n",
    "\n",
    "print(multiplication(5,15,25))"
   ]
  },
  {
   "cell_type": "markdown",
   "id": "21c484fe-9b78-4cc0-9147-104cfa527274",
   "metadata": {},
   "source": [
    "Q3. How are lambda functions typically used in Python? Provide an example use case.\n",
    "\n",
    "Ans.3. \n",
    "\n",
    "Lambda functions are typically used in Python for short, simple functions that are only needed once and don't require a separate function definition. They are commonly used in functional programming and for data processing tasks such as filtering, mapping, and sorting.\n",
    "\n",
    "I have shown the example of this in below cell."
   ]
  },
  {
   "cell_type": "code",
   "execution_count": 6,
   "id": "8400acf8-ae5b-4a26-8ae3-c5a2d7e69591",
   "metadata": {},
   "outputs": [
    {
     "name": "stdout",
     "output_type": "stream",
     "text": [
      "{'Phone_name': 'MI', 'Price': 15000}\n",
      "{'Phone_name': 'Realme', 'Price': 20000}\n",
      "{'Phone_name': 'Google pixel', 'Price': 25000}\n",
      "{'Phone_name': 'One plus', 'Price': 30000}\n",
      "{'Phone_name': 'Samsung', 'Price': 40000}\n",
      "{'Phone_name': 'I-Phone', 'Price': 140000}\n"
     ]
    }
   ],
   "source": [
    "# A list of dictionaries is created, where each dictionary represents a product. \n",
    "# Each product has two properties: 'name' and 'price'.\n",
    "# We have to sort the list in the increasing order of their prices.\n",
    "\n",
    "list1 = [{\"Phone_name\" : \"Samsung\", \"Price\" : 40000},\n",
    "         {\"Phone_name\" : \"MI\", \"Price\" : 15000},\n",
    "         {\"Phone_name\" : \"Realme\", \"Price\" : 20000},\n",
    "         {\"Phone_name\" : \"I-Phone\", \"Price\" : 140000},\n",
    "         {\"Phone_name\" : \"One plus\", \"Price\" : 30000},\n",
    "         {\"Phone_name\" : \"Google pixel\", \"Price\" : 25000}]\n",
    "\n",
    "sorted_list = sorted(list1, key = lambda x: x[\"Price\"])\n",
    "\n",
    "for i in sorted_list:\n",
    "    print(i)"
   ]
  },
  {
   "cell_type": "markdown",
   "id": "7635f278-e9e1-4ef2-bfdb-cc084a9954f2",
   "metadata": {},
   "source": [
    "Q4. What are the advantages and limitations of lambda functions compared to regular functions in Python?\n",
    "\n",
    "Ans.4. \n",
    "\n",
    "Advantages:\n",
    "\n",
    "1) Lambda functions in Python have the advantage of being able to be defined in a single line of code, making them useful for simple operations that can be defined on the fly. \n",
    "2) They are also useful for functions that are only needed once and don't require a formal definition.\n",
    "3) Lambda functions do not require a return statement, the expression is implicitly returned.\n",
    "\n",
    "Disadvantages:\n",
    "\n",
    "1) They are limited to a single expression, which means they cannot contain multiple statements or control structures. \n",
    "2) They also lack the ability to include default arguments and annotations, which can be useful in more complex functions.\n",
    "3) They are not reading friendly.\n",
    "4) Lambda functions are only useful for small tasks that are not reused throughout your code."
   ]
  },
  {
   "cell_type": "markdown",
   "id": "d216514b-3414-49ce-823c-67e7356bab37",
   "metadata": {},
   "source": [
    "Q5. Are lambda functions in Python able to access variables defined outside of their own scope? Explain with an example.\n",
    "\n",
    "Ans.5.\n",
    "\n",
    "Yes, lambda functions in Python can access variables defined outside of their own scope. This is because lambda functions are closures, which means they can access variables in the enclosing lexical scope.\n",
    "\n",
    "I have shown the example in the below cell."
   ]
  },
  {
   "cell_type": "code",
   "execution_count": 3,
   "id": "93802ed4-7de6-4b4d-a2a0-c42ab9689ab8",
   "metadata": {},
   "outputs": [
    {
     "name": "stdout",
     "output_type": "stream",
     "text": [
      "3375\n"
     ]
    }
   ],
   "source": [
    "def power_by(n):\n",
    "    return lambda x: x ** n\n",
    "\n",
    "power_triple = power_by(3)\n",
    "\n",
    "print(power_triple(15))  "
   ]
  },
  {
   "cell_type": "markdown",
   "id": "f45d9be1-0dc3-4a02-963d-2d5fdd9d2cce",
   "metadata": {},
   "source": [
    "Q6.  Write a lambda function to calculate the square of a given number.\n",
    "\n",
    "Ans.6.\n",
    "\n",
    "I have written it in the below cell."
   ]
  },
  {
   "cell_type": "code",
   "execution_count": 4,
   "id": "263434ee-04a8-4dea-b8aa-4896634e8b68",
   "metadata": {},
   "outputs": [
    {
     "name": "stdout",
     "output_type": "stream",
     "text": [
      "841\n"
     ]
    }
   ],
   "source": [
    "square = lambda x: x**2\n",
    "\n",
    "print(square(29))"
   ]
  },
  {
   "cell_type": "markdown",
   "id": "4d27dc07-f1d3-4da6-949d-6c992d1e4d78",
   "metadata": {},
   "source": [
    "Q7. Create a lambda function to find the maximum value in a list of integers.\n",
    "\n",
    "Ans.7. \n",
    "\n",
    "I have shown in the below cell."
   ]
  },
  {
   "cell_type": "code",
   "execution_count": 62,
   "id": "8bdf02a0-51b2-49c5-976a-bf6a111a6838",
   "metadata": {},
   "outputs": [
    {
     "data": {
      "text/plain": [
       "8"
      ]
     },
     "execution_count": 62,
     "metadata": {},
     "output_type": "execute_result"
    }
   ],
   "source": [
    "maximum = lambda x: max(x)\n",
    "\n",
    "maximum([1,2,5,6,8,5,3,6])"
   ]
  },
  {
   "cell_type": "markdown",
   "id": "ec9d085a-ae6a-4594-9e05-a051e02bf9db",
   "metadata": {},
   "source": [
    "Q8. Implement a lambda function to filter out all the even numbers from a list of integers.\n",
    "\n",
    "Ans.8.\n",
    "\n",
    "I have shown in the below cell"
   ]
  },
  {
   "cell_type": "code",
   "execution_count": 61,
   "id": "2f331e37-3778-426b-8672-e6f883a1ffc9",
   "metadata": {},
   "outputs": [
    {
     "name": "stdout",
     "output_type": "stream",
     "text": [
      "[2, 4, 6, 8, 10]\n"
     ]
    }
   ],
   "source": [
    "list1 = [1,2,3,4,5,6,7,8,9,10,11]\n",
    "\n",
    "sorted_list = filter(lambda x: x%2 == 0, list1)\n",
    "\n",
    "print(list(sorted_list))"
   ]
  },
  {
   "cell_type": "markdown",
   "id": "0d267162-7abb-4377-bd57-985071d9b955",
   "metadata": {},
   "source": [
    "Q9. Write a lambda function to sort a list of strings in ascending order based on the length of each string.\n",
    "\n",
    "Ans.9.\n",
    "\n",
    "I have shown it in below cell"
   ]
  },
  {
   "cell_type": "code",
   "execution_count": 60,
   "id": "4b09fe26-6d0a-4cd1-87ee-ea20df301739",
   "metadata": {},
   "outputs": [
    {
     "name": "stdout",
     "output_type": "stream",
     "text": [
      "['amar', 'karan', 'vikas', 'shreya', 'roshni', 'nishant', 'aishwarya', 'shreyanshu']\n"
     ]
    }
   ],
   "source": [
    "list_of_strings = [\"shreya\", \"karan\", \"shreyanshu\", \"aishwarya\", \"nishant\", \"amar\", \"roshni\", \"vikas\"]\n",
    "\n",
    "sorted_list_of_strings = sorted(list_of_strings, key = lambda x: len(x))\n",
    "\n",
    "print(sorted_list_of_strings)"
   ]
  },
  {
   "cell_type": "markdown",
   "id": "0803d70a-a906-4b6b-ad81-ee27c0cf1e40",
   "metadata": {},
   "source": [
    "Q10. Create a lambda function that takes two lists as input and returns a new list containing the common elements between the two lists.\n",
    "\n",
    "Ans.10.\n",
    "\n",
    "I have done this in below cell"
   ]
  },
  {
   "cell_type": "code",
   "execution_count": 123,
   "id": "c025324c-4414-4d54-a778-d268d45c9e18",
   "metadata": {},
   "outputs": [
    {
     "name": "stdout",
     "output_type": "stream",
     "text": [
      "[2, 4, 6, 8, 10]\n"
     ]
    }
   ],
   "source": [
    "list1 = [1,2,3,4,5,6,7,8,9,10]\n",
    "list2 = [2,4,6,8,10]\n",
    "\n",
    "common_element = lambda lst1, lst2: list(filter(lambda x: x in lst2, lst1))\n",
    "\n",
    "print(common_element(list1, list2))"
   ]
  },
  {
   "cell_type": "markdown",
   "id": "cace30e9-0caa-46f8-a0b7-c306ea2823e0",
   "metadata": {},
   "source": [
    "Q11. Write a recursive function to calculate the factorial of a given positive integer.\n",
    "\n",
    "Ans.11.\n",
    "\n",
    "I have shown it in below cell"
   ]
  },
  {
   "cell_type": "code",
   "execution_count": 59,
   "id": "80e32a23-0dc7-42e6-aced-844b1cbc985c",
   "metadata": {},
   "outputs": [
    {
     "name": "stdin",
     "output_type": "stream",
     "text": [
      "Enter the number:  6\n"
     ]
    },
    {
     "data": {
      "text/plain": [
       "720"
      ]
     },
     "execution_count": 59,
     "metadata": {},
     "output_type": "execute_result"
    }
   ],
   "source": [
    "num = int(input(\"Enter the number: \"))\n",
    "\n",
    "def factorial(num):\n",
    "    if num == 0:\n",
    "        return num+1\n",
    "    else:\n",
    "        return num*factorial(num-1)\n",
    "    \n",
    "factorial(num)"
   ]
  },
  {
   "cell_type": "markdown",
   "id": "91513bd4-40fb-478e-b05b-a8a74f6c09ca",
   "metadata": {},
   "source": [
    "Q12. Implement a recursive function to compute the nth Fibonacci number.\n",
    "\n",
    "Ans.12.\n",
    "\n",
    "I have done it in below cell"
   ]
  },
  {
   "cell_type": "code",
   "execution_count": 58,
   "id": "899c6582-6971-41cc-a8a8-19a0de5a2b22",
   "metadata": {},
   "outputs": [
    {
     "name": "stdin",
     "output_type": "stream",
     "text": [
      "Enter term upto which u want fibonacci sequence:  13\n"
     ]
    },
    {
     "data": {
      "text/plain": [
       "233"
      ]
     },
     "execution_count": 58,
     "metadata": {},
     "output_type": "execute_result"
    }
   ],
   "source": [
    "n = int(input(\"Enter term upto which u want fibonacci sequence: \"))\n",
    "\n",
    "def fibonacci(n):\n",
    "    if n == 0:\n",
    "        return n\n",
    "    elif n == 1:\n",
    "        return n\n",
    "    else:\n",
    "        return fibonacci(n-1) + fibonacci(n-2)\n",
    "    \n",
    "fibonacci(n)"
   ]
  },
  {
   "cell_type": "markdown",
   "id": "ce9ea005-4464-4a30-8a1c-ca7a8bb049f1",
   "metadata": {},
   "source": [
    "Q13. Create a recursive function to find the sum of all the elements in a given list.\n",
    "\n",
    "Ans.13.\n",
    "\n",
    "I have shown it in the below cell"
   ]
  },
  {
   "cell_type": "code",
   "execution_count": 65,
   "id": "d4077b53-284b-42f8-b07a-57488b0c0415",
   "metadata": {},
   "outputs": [
    {
     "data": {
      "text/plain": [
       "21"
      ]
     },
     "execution_count": 65,
     "metadata": {},
     "output_type": "execute_result"
    }
   ],
   "source": [
    "list1 = [1,2,3,4,5,6]\n",
    "\n",
    "def sum_list(list1):\n",
    "    \n",
    "    for i in list1:\n",
    "        if len(list1) == 0:\n",
    "            return 0\n",
    "        elif len(list1) == 1:\n",
    "            return i\n",
    "        else:\n",
    "            return i + sum_list(list1[1:])\n",
    "        \n",
    "sum_list(list1)"
   ]
  },
  {
   "cell_type": "markdown",
   "id": "7ad4fd35-b99f-482d-8741-22dbdb7d31a6",
   "metadata": {},
   "source": [
    "Q14. Write a recursive function to determine whether a given string is a palindrome.\n",
    "\n",
    "Ans.14. \n",
    "\n",
    "I have done it in below cell"
   ]
  },
  {
   "cell_type": "code",
   "execution_count": 118,
   "id": "61febea8-bc9b-404e-a569-68fdc6ab5954",
   "metadata": {},
   "outputs": [
    {
     "name": "stdin",
     "output_type": "stream",
     "text": [
      "Enter the string kanak\n"
     ]
    },
    {
     "name": "stdout",
     "output_type": "stream",
     "text": [
      "kanak is a palindrome\n"
     ]
    }
   ],
   "source": [
    "str1 = input(\"Enter the string\")\n",
    "str1 = str1.lower()\n",
    "\n",
    "def ispalindrome(str1):\n",
    "    \n",
    "        if len(str1) <= 2:\n",
    "            if str1[0] == str1[-1]:\n",
    "                return True\n",
    "            else:\n",
    "                return False\n",
    "        else:\n",
    "            return str1[0] == str1[-1] and ispalindrome(str1[1:-1])\n",
    "        \n",
    "if ispalindrome(str1) == True:\n",
    "    print(f\"{str1} is a palindrome\")\n",
    "else:\n",
    "    print(f\"{str1} is not a palindrome\")"
   ]
  },
  {
   "cell_type": "markdown",
   "id": "8f37e849-73f9-414b-acd1-c51f07183250",
   "metadata": {},
   "source": [
    "Q15. Implement a recursive function to find the greatest common divisor (GCD) of two positive integers.\n",
    "\n",
    "Ans.15\n",
    "\n",
    "I have shown it in below cell"
   ]
  },
  {
   "cell_type": "code",
   "execution_count": 57,
   "id": "9dae6fbf-28c2-4fe9-aceb-251d47a89f1c",
   "metadata": {},
   "outputs": [
    {
     "name": "stdin",
     "output_type": "stream",
     "text": [
      "Enter 1st number:  5\n",
      "Enter 2nd number:  0\n"
     ]
    },
    {
     "name": "stdout",
     "output_type": "stream",
     "text": [
      "5\n"
     ]
    }
   ],
   "source": [
    "a = int(input(\"Enter 1st number: \"))\n",
    "b = int(input(\"Enter 2nd number: \"))\n",
    "\n",
    "def GCD(a, b):\n",
    "    \n",
    "\tlow = min(a, b)\n",
    "\thigh = max(a, b)\n",
    "\n",
    "\tif low == 0:\n",
    "\t\treturn high\n",
    "\telif low == 1:\n",
    "\t\treturn 1\n",
    "\telse:\n",
    "\t\treturn GCD(low, high%low)\n",
    "    \n",
    "print(GCD(a,b))"
   ]
  }
 ],
 "metadata": {
  "kernelspec": {
   "display_name": "Python 3 (ipykernel)",
   "language": "python",
   "name": "python3"
  },
  "language_info": {
   "codemirror_mode": {
    "name": "ipython",
    "version": 3
   },
   "file_extension": ".py",
   "mimetype": "text/x-python",
   "name": "python",
   "nbconvert_exporter": "python",
   "pygments_lexer": "ipython3",
   "version": "3.10.6"
  }
 },
 "nbformat": 4,
 "nbformat_minor": 5
}
