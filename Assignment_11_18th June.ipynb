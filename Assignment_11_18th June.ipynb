{
 "cells": [
  {
   "cell_type": "markdown",
   "id": "19f0c779-7dca-4143-9077-6a6e94aab3ed",
   "metadata": {},
   "source": [
    "Q1. What is the role of the 'else' block in a try-except statement? Provide an example scenario where it would be useful.\n",
    "\n",
    "Ans.1.\n",
    "\n",
    "The role of the else block in a try-except statement is to execute the code in the else block if there's no exception raised by the code in the try block. \n",
    "\n",
    "It would be useful when we want to execute some code if there's no exception raised by the code in the try block."
   ]
  },
  {
   "cell_type": "code",
   "execution_count": 2,
   "id": "bab5f48e-e910-4827-a3e3-772d72dd8a8b",
   "metadata": {},
   "outputs": [
    {
     "name": "stdin",
     "output_type": "stream",
     "text": [
      "Enter numerator 15\n",
      "Enter denominator 3\n"
     ]
    },
    {
     "name": "stdout",
     "output_type": "stream",
     "text": [
      "5.0\n"
     ]
    }
   ],
   "source": [
    "num1 = int(input(\"Enter numerator\"))\n",
    "num2 = int(input(\"Enter denominator\"))\n",
    "\n",
    "def Division(num1, num2):\n",
    "    try:\n",
    "        result = num1 / num2\n",
    "        \n",
    "    except ZeroDivisionError:\n",
    "        print(\"Divison by 0 is not possible\")\n",
    "        \n",
    "    else:\n",
    "        print(result)\n",
    "        \n",
    "Division(num1, num2)"
   ]
  },
  {
   "cell_type": "markdown",
   "id": "843357f9-619c-43f8-be9b-c5220d5fdd60",
   "metadata": {},
   "source": [
    "Q2. Can a try-except block be nested inside another try-except block? Explain with an example.\n",
    "\n",
    "Ans.2.\n",
    "\n",
    "Yes we can have nested try except blocks.\n",
    "\n",
    "I have shown the example in the below cell."
   ]
  },
  {
   "cell_type": "code",
   "execution_count": 10,
   "id": "840f6909-6e4a-40bc-9fa2-a1ad5c05c8ef",
   "metadata": {},
   "outputs": [
    {
     "name": "stdin",
     "output_type": "stream",
     "text": [
      "Enter the numerator:  5\n",
      "Enter the denominator:  0\n"
     ]
    },
    {
     "name": "stdout",
     "output_type": "stream",
     "text": [
      "Cannot divide by zero.\n"
     ]
    }
   ],
   "source": [
    "try:\n",
    "    \n",
    "    numerator = int(input(\"Enter the numerator: \"))\n",
    "    denominator = int(input(\"Enter the denominator: \"))\n",
    "    \n",
    "    try:\n",
    "        result = numerator / denominator\n",
    "        print(\"The division result is:\", result)\n",
    "        \n",
    "    except ZeroDivisionError:\n",
    "        print(\"Cannot divide by zero.\")\n",
    "        \n",
    "except ValueError:\n",
    "    print(\"Invalid input. Please enter numeric values.\")"
   ]
  },
  {
   "cell_type": "markdown",
   "id": "0d3724ce-0853-48ac-83b6-7987d693a8b9",
   "metadata": {},
   "source": [
    "Q3. How can you create a custom exception class in Python? Provide an example that demonstrates its usage.\n",
    "\n",
    "Ans.3.\n",
    "\n",
    "By deriving a new class from the default Exception class in Python, we can define our own exception types.\n",
    "\n",
    "I have shown in the below example."
   ]
  },
  {
   "cell_type": "code",
   "execution_count": 3,
   "id": "3b3a2101-47b6-4620-aa38-bf19b393d73a",
   "metadata": {},
   "outputs": [
    {
     "name": "stdin",
     "output_type": "stream",
     "text": [
      "Enter the name of a girl:  Pragya\n",
      "Enter the age of a girl:  15\n"
     ]
    },
    {
     "name": "stdout",
     "output_type": "stream",
     "text": [
      "Pragya is not eligible to marry by law\n"
     ]
    }
   ],
   "source": [
    "class WrongAgeError(Exception):\n",
    "    #this user defined exception is created to check whether is eligible to marry by law or not\n",
    "    pass\n",
    "\n",
    "n = 18\n",
    "\n",
    "try:\n",
    "    name = input(\"Enter the name of a girl: \")\n",
    "    age = int(input(\"Enter the age of a girl: \"))\n",
    "    if age > n:\n",
    "        print(f\"{name} is eligible to marry by law\")\n",
    "    else:\n",
    "        raise WrongAgeError\n",
    "        \n",
    "except WrongAgeError:\n",
    "    print(f\"{name} is not eligible to marry by law\")"
   ]
  },
  {
   "cell_type": "markdown",
   "id": "ce75c6c2-4d9c-4ff7-b37d-265692193e4a",
   "metadata": {},
   "source": [
    "Q4. What are some common exceptions that are built-in to Python?.\n",
    "\n",
    "Ans.4. \n",
    "\n",
    "Some common exceptions that are built-in to Python are:\n",
    "\n",
    "1) NameError - Raised when a local or global name is not found.\n",
    "\n",
    "2) ZeroDivisionError - Raised when the second operand of a division or modulo operation is zero.\n",
    "\n",
    "3) IndexError - Raised when a sequence subscript is out of range.\n",
    "\n",
    "4) ValueError - Raised when a built-in operation or function receives an argument that has the right type but an inappropriate value.\n",
    "\n",
    "5) TypeError - Raised when an operation or function is applied to an object of inappropriate type. "
   ]
  },
  {
   "cell_type": "markdown",
   "id": "7ef9a97a-4a86-4a71-aaa9-42e9e18048ee",
   "metadata": {},
   "source": [
    "Q5. What is logging in Python, and why is it important in software development?\n",
    "\n",
    "Ans.5. \n",
    "\n",
    "1) Logging is a means or technique of tracking events that happen when some software runs. \n",
    "\n",
    "2) Logging is important for software developing, debugging, and running. \n",
    "\n",
    "3) If we don’t have any logging record and our program crashes, there are very few chances that we detect the cause of the problem. And if we detect the cause, it will consume a lot of time. \n",
    "\n",
    "4) With logging, we can leave a trail of breadcrumbs so that if something goes wrong, we can determine the cause of the problem. "
   ]
  },
  {
   "cell_type": "markdown",
   "id": "67c076a5-f00e-429d-82da-e23693c5ad4e",
   "metadata": {},
   "source": [
    "Q6. Explain the purpose of log levels in Python logging and provide examples of when each log level would be appropriate.\n",
    "\n",
    "Ans.6.\n",
    "\n",
    "1) DEBUG - Detailed information, typically of interest only when diagnosing problems.\n",
    "2) INFO - Confirmation that things are working as expected.\n",
    "3) WARNING - An indication that something unexpected happened, or indicative of some problem in the near future.\n",
    "4) ERROR - Due to a more serious problem, the software has not been able to perform some function.\n",
    "5) CRITICAL - A serious error, indicating that the program itself may be unable to continue running."
   ]
  },
  {
   "cell_type": "code",
   "execution_count": 4,
   "id": "021dd8af-a0d9-4c9e-b9f8-14b034a4f4da",
   "metadata": {},
   "outputs": [
    {
     "name": "stderr",
     "output_type": "stream",
     "text": [
      "DEBUG:root:This is a debug message\n"
     ]
    }
   ],
   "source": [
    "import logging\n",
    "\n",
    "logging.basicConfig(level=logging.DEBUG)\n",
    "\n",
    "logging.debug(\"This is a debug message\")"
   ]
  },
  {
   "cell_type": "code",
   "execution_count": 5,
   "id": "5d289b4a-5e5d-445a-bfcd-6e07abf95b3e",
   "metadata": {},
   "outputs": [
    {
     "name": "stderr",
     "output_type": "stream",
     "text": [
      "INFO:root:This is an info message\n"
     ]
    }
   ],
   "source": [
    "logging.basicConfig(level=logging.INFO)\n",
    "\n",
    "logging.info(\"This is an info message\")"
   ]
  },
  {
   "cell_type": "code",
   "execution_count": 6,
   "id": "5751f6b5-0b9d-4b9a-924d-ec53f7d5d063",
   "metadata": {},
   "outputs": [
    {
     "name": "stderr",
     "output_type": "stream",
     "text": [
      "WARNING:root:This is a warning message\n"
     ]
    }
   ],
   "source": [
    "logging.basicConfig(level=logging.WARNING)\n",
    "\n",
    "logging.warning(\"This is a warning message\")"
   ]
  },
  {
   "cell_type": "code",
   "execution_count": 7,
   "id": "b8b9d7bd-2f71-4ae4-be2f-efb47c392649",
   "metadata": {},
   "outputs": [
    {
     "name": "stderr",
     "output_type": "stream",
     "text": [
      "ERROR:root:This is an error message\n"
     ]
    }
   ],
   "source": [
    "logging.basicConfig(level=logging.ERROR)\n",
    "\n",
    "logging.error(\"This is an error message\")"
   ]
  },
  {
   "cell_type": "code",
   "execution_count": 8,
   "id": "47b7be6a-b096-40f6-acee-9934de5f4aab",
   "metadata": {},
   "outputs": [
    {
     "name": "stderr",
     "output_type": "stream",
     "text": [
      "CRITICAL:root:This is a critical message\n"
     ]
    }
   ],
   "source": [
    "logging.basicConfig(level=logging.CRITICAL)\n",
    "\n",
    "logging.critical(\"This is a critical message\")"
   ]
  },
  {
   "cell_type": "markdown",
   "id": "e889f3f1-f2c9-482d-a933-3f98561c30e0",
   "metadata": {},
   "source": [
    "Q7. What are log formatters in Python logging, and how can you customise the log message format using formatters?\n",
    "\n",
    "Ans.7.\n",
    "\n",
    "Log formatters in Python logging are used to specify the format of the log messages. We can customise the log message format using formatters by specifying the format of the log messages in the basicConfig function.\n",
    "\n",
    "I have shown about the customization in the below cell."
   ]
  },
  {
   "cell_type": "code",
   "execution_count": 3,
   "id": "1ee5619d-82c8-4e13-9285-c566ff7f2aac",
   "metadata": {},
   "outputs": [
    {
     "name": "stderr",
     "output_type": "stream",
     "text": [
      "2023-07-13 17:18:32,898 - DEBUG - This is a debug message\n"
     ]
    }
   ],
   "source": [
    "import logging\n",
    "\n",
    "logging.basicConfig(level=logging.DEBUG, format=\"%(asctime)s - %(levelname)s - %(message)s\")\n",
    "\n",
    "logging.debug(\"This is a debug message\")"
   ]
  },
  {
   "cell_type": "code",
   "execution_count": 4,
   "id": "4ef35a23-639c-4749-9551-7f82fed7b6c4",
   "metadata": {},
   "outputs": [
    {
     "name": "stderr",
     "output_type": "stream",
     "text": [
      "2023-07-13 17:18:35,438 - INFO - This is an info message\n"
     ]
    }
   ],
   "source": [
    "import logging\n",
    "\n",
    "logging.basicConfig(level=logging.INFO, format=\"%(asctime)s - %(levelname)s - %(message)s\")\n",
    "\n",
    "logging.info(\"This is an info message\")"
   ]
  },
  {
   "cell_type": "code",
   "execution_count": 5,
   "id": "012259ad-548a-4f10-94e8-a7b86fc03e0a",
   "metadata": {},
   "outputs": [
    {
     "name": "stderr",
     "output_type": "stream",
     "text": [
      "2023-07-13 17:18:37,585 - WARNING - This is a warning message\n"
     ]
    }
   ],
   "source": [
    "import logging\n",
    "\n",
    "logging.basicConfig(level=logging.WARNING, format=\"%(asctime)s - %(levelname)s - %(message)s\")\n",
    "\n",
    "logging.warning(\"This is a warning message\")"
   ]
  },
  {
   "cell_type": "code",
   "execution_count": 6,
   "id": "cd1e7a8d-2207-4460-bfbb-d38b0d0a0d7f",
   "metadata": {},
   "outputs": [
    {
     "name": "stderr",
     "output_type": "stream",
     "text": [
      "2023-07-13 17:18:40,116 - ERROR - This is an error message\n"
     ]
    }
   ],
   "source": [
    "import logging\n",
    "\n",
    "logging.basicConfig(level=logging.ERROR, format=\"%(asctime)s - %(levelname)s - %(message)s\")\n",
    "\n",
    "logging.error(\"This is an error message\")"
   ]
  },
  {
   "cell_type": "code",
   "execution_count": 7,
   "id": "a3ed179f-a455-48f1-ae26-16ef1e0abc23",
   "metadata": {},
   "outputs": [
    {
     "name": "stderr",
     "output_type": "stream",
     "text": [
      "2023-07-13 17:18:42,262 - CRITICAL - This is a critical message\n"
     ]
    }
   ],
   "source": [
    "import logging\n",
    "\n",
    "logging.basicConfig(level=logging.CRITICAL, format=\"%(asctime)s - %(levelname)s - %(message)s\")\n",
    "\n",
    "logging.critical(\"This is a critical message\")"
   ]
  },
  {
   "cell_type": "markdown",
   "id": "9ad9ba40-3c0b-4c76-ad43-039d7a0d46e4",
   "metadata": {},
   "source": [
    "Q8. How can you set up logging to capture log messages from multiple modules or classes in a Python application?\n",
    "\n",
    "Ans.8.\n",
    "\n",
    "I have shown in the below cell."
   ]
  },
  {
   "cell_type": "code",
   "execution_count": 8,
   "id": "89adef9f-52eb-465d-b668-902afceb3882",
   "metadata": {},
   "outputs": [
    {
     "name": "stderr",
     "output_type": "stream",
     "text": [
      "2023-07-13 17:20:45,126 - DEBUG - Debug message in module1\n",
      "2023-07-13 17:20:45,127 - INFO - Info message in module1\n",
      "2023-07-13 17:20:45,128 - WARNING - Warning message in module1\n",
      "2023-07-13 17:20:45,129 - ERROR - Error message in module1\n",
      "2023-07-13 17:20:45,130 - CRITICAL - Critical message in module1\n",
      "2023-07-13 17:20:45,132 - DEBUG - Debug message in module2\n",
      "2023-07-13 17:20:45,132 - INFO - Info message in module2\n",
      "2023-07-13 17:20:45,133 - WARNING - Warning message in module2\n",
      "2023-07-13 17:20:45,134 - ERROR - Error message in module2\n",
      "2023-07-13 17:20:45,134 - CRITICAL - Critical message in module2\n"
     ]
    }
   ],
   "source": [
    "import logging\n",
    "\n",
    "# Configure the root logger\n",
    "logging.basicConfig(level=logging.DEBUG, format='%(asctime)s - %(levelname)s - %(message)s')\n",
    "\n",
    "# Create a logger for each module or class\n",
    "logger_module1 = logging.getLogger('module1')\n",
    "logger_module2 = logging.getLogger('module2')\n",
    "\n",
    "# Example usage in module1\n",
    "def function_in_module1():\n",
    "    logger_module1.debug('Debug message in module1')\n",
    "    logger_module1.info('Info message in module1')\n",
    "    logger_module1.warning('Warning message in module1')\n",
    "    logger_module1.error('Error message in module1')\n",
    "    logger_module1.critical('Critical message in module1')\n",
    "\n",
    "# Example usage in module2\n",
    "def function_in_module2():\n",
    "    logger_module2.debug('Debug message in module2')\n",
    "    logger_module2.info('Info message in module2')\n",
    "    logger_module2.warning('Warning message in module2')\n",
    "    logger_module2.error('Error message in module2')\n",
    "    logger_module2.critical('Critical message in module2')\n",
    "\n",
    "# Logging messages from multiple modules or classes\n",
    "function_in_module1()\n",
    "function_in_module2()"
   ]
  },
  {
   "cell_type": "markdown",
   "id": "17e8b26f-eb48-4c46-bf76-49abe2b77416",
   "metadata": {},
   "source": [
    "Q9. What is the difference between the logging and print statements in Python? When should you use logging over print statements in a real-world application?\n",
    "\n",
    "Ans.9.\n",
    "\n",
    "The difference between the logging and print statements in Python is that the logging statements are used to record the events that occur during the execution of a program, while the print statements are used to display the output of a program. \n",
    "\n",
    "We should use logging over print statements in a real-world application because logging is more flexible than print statements. \n",
    "\n",
    "We can configure the logging statements to record the events that occur during the execution of a program in a file, while the print statements can only display the output of a program on the console."
   ]
  },
  {
   "cell_type": "markdown",
   "id": "148f4079-7e4d-44c8-ba81-cfeed96194b7",
   "metadata": {},
   "source": [
    "Q10. Write a Python program that logs a message to a file named \"app.log\" with the following requirements:\n",
    "\n",
    "<li>The log message should be \"Hello, World!\"\n",
    "<li>The log level should be set to \"INFO.\"\n",
    "<li>The log file should append new log entries without overwriting previous ones.\n",
    "    \n",
    "    \n",
    "Ans.10.\n",
    "    \n",
    "I have shown the answer in the below cell."
   ]
  },
  {
   "cell_type": "code",
   "execution_count": 9,
   "id": "fc05b472-39e9-494b-b661-21ededfa6fe4",
   "metadata": {},
   "outputs": [
    {
     "name": "stderr",
     "output_type": "stream",
     "text": [
      "2023-07-13 17:22:11,136 - INFO - Hello, World!\n"
     ]
    }
   ],
   "source": [
    "import logging\n",
    "\n",
    "logging.basicConfig(filename='app.log', level=logging.INFO, format='%(asctime)s - %(levelname)s - %(message)s')\n",
    "\n",
    "logging.info('Hello, World!')"
   ]
  },
  {
   "cell_type": "markdown",
   "id": "a4e2b5d2-22a9-45ab-9be4-bee07ca0e08e",
   "metadata": {},
   "source": [
    "Q11. Create a Python program that logs an error message to the console and a file named \"errors.log\" if an exception occurs during the program's execution. The error message should include the exception type and a timestamp.\n",
    "\n",
    "Ans.11.\n",
    "\n",
    "I have shown the answer in the below cell."
   ]
  },
  {
   "cell_type": "code",
   "execution_count": 14,
   "id": "75c9d475-91b7-4e36-932b-afbdae43747a",
   "metadata": {},
   "outputs": [
    {
     "name": "stderr",
     "output_type": "stream",
     "text": [
      "2023-07-13 17:39:30,465 - ERROR - ValueError: An error occurred.\n"
     ]
    }
   ],
   "source": [
    "import logging\n",
    "import datetime\n",
    "\n",
    "# Configure the logger\n",
    "logging.basicConfig(\n",
    "    level=logging.ERROR,\n",
    "    format='%(asctime)s - %(levelname)s - %(message)s',\n",
    "    handlers=[\n",
    "        logging.StreamHandler(),  # Output to console\n",
    "        logging.FileHandler('errors.log')  # Output to file\n",
    "    ]\n",
    ")\n",
    "\n",
    "try:\n",
    "    # Code that may raise an exception\n",
    "    # ...\n",
    "    raise ValueError(\"An error occurred.\")\n",
    "except Exception as e:\n",
    "    # Log the error message\n",
    "    logging.error(f\"{type(e).__name__}: {e}\")"
   ]
  }
 ],
 "metadata": {
  "kernelspec": {
   "display_name": "Python 3 (ipykernel)",
   "language": "python",
   "name": "python3"
  },
  "language_info": {
   "codemirror_mode": {
    "name": "ipython",
    "version": 3
   },
   "file_extension": ".py",
   "mimetype": "text/x-python",
   "name": "python",
   "nbconvert_exporter": "python",
   "pygments_lexer": "ipython3",
   "version": "3.10.6"
  }
 },
 "nbformat": 4,
 "nbformat_minor": 5
}
