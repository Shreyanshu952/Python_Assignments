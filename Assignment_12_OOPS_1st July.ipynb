{
 "cells": [
  {
   "cell_type": "markdown",
   "id": "340322f8-0afc-4915-901d-a0824ce5108a",
   "metadata": {},
   "source": [
    "# Q1. What is the primary goal of Object-Oriented Programming (OOP)?\n",
    "\n",
    "Ans.1.\n",
    "\n",
    "The primary goal of Object-Oriented Programming (OOP) is:\n",
    "\n",
    "1) To make the development and maintenance of projects more effortless. \n",
    "2) To provide the feature of data hiding that is good for security concerns.  \n",
    "3) We can solve real-world problems if we are using object-oriented programming. \n",
    "4) It ensures code reusability. \n",
    "5) It lets us write generic code: which will work with a range of data, so we don’t have to write basic stuff over and over again."
   ]
  },
  {
   "cell_type": "markdown",
   "id": "48beb27e-16eb-4868-9786-7918a3f12358",
   "metadata": {},
   "source": [
    "# Q2. What is an object in Python?\n",
    "\n",
    "Ans.2. \n",
    "\n",
    "It is a basic unit of Object-Oriented Programming and represents the real-life entities. \n",
    "\n",
    "An Object is an instance of a Class. When a class is defined, no memory is allocated but when it is instantiated (i.e. an object is created) memory is allocated. \n",
    "\n",
    "An object has an identity, state, and behavior. \n",
    "\n",
    "Each object contains data and code to manipulate the data. \n",
    "\n",
    "Objects can interact without having to know details of each other’s data or code, it is sufficient to know the type of message accepted and type of response returned by the objects. "
   ]
  },
  {
   "cell_type": "markdown",
   "id": "2fbae46a-d93e-4536-a611-e2087b118352",
   "metadata": {},
   "source": [
    "# Q3. What is a class in Python?\n",
    "\n",
    "Ans.3.\n",
    "\n",
    "A class is a user-defined data type. \n",
    "\n",
    "It consists of data members and member functions, which can be accessed and used by creating an instance of that class. \n",
    "\n",
    "It represents the set of properties or methods that are common to all objects of one type. \n",
    "\n",
    "A class is like a blueprint for an object.  "
   ]
  },
  {
   "cell_type": "markdown",
   "id": "6871ceec-bd64-4b32-bdf8-1b74d1b909d5",
   "metadata": {},
   "source": [
    "# Q4. What are attributes and methods in a class?\n",
    "\n",
    "Ans.4.\n",
    "\n",
    "In object-oriented programming, attributes and methods are important concepts related to classes. Let's define each term:\n",
    "\n",
    "<li> Attributes: \n",
    "\n",
    "Attributes, also known as object variables or instance variables are essentially variables that store information about the object's state. \n",
    "    \n",
    "Attributes define the properties or characteristics of an object. \n",
    "    \n",
    "For example, in a class representing a Bank Account, attributes could include its account holder name, amount, bank account number. Each instance of the class (object) can have different values for these attributes.\n",
    "\n",
    "<li> Methods: \n",
    "    \n",
    "Methods, also known as object or instance functions represent the actions that objects of a class can perform. \n",
    "    \n",
    "Methods operate on the attributes of an object and can modify their values or perform some computation based on them. \n",
    "    \n",
    "For example, in the Bank Account class, methods could include amount deposit, amount withdrawl, transaction etc."
   ]
  },
  {
   "cell_type": "markdown",
   "id": "07cb3ebd-66dc-4f49-bdca-4246776d12bf",
   "metadata": {},
   "source": [
    "# Q5. What is the difference between class variables and instance variables in Python?\n",
    "\n",
    "Ans.5.\n",
    "\n",
    "Class variables are the variables that are shared by all the objects of a class. \n",
    "\n",
    "Instance variables are the variables that are unique to each object of a class.\n",
    "\n",
    "I have shown the example in the below cell."
   ]
  },
  {
   "cell_type": "code",
   "execution_count": 4,
   "id": "8a112052-978a-4870-8348-bbd8959837f9",
   "metadata": {},
   "outputs": [
    {
     "name": "stdout",
     "output_type": "stream",
     "text": [
      "Larsen & Toubro\n",
      "Larsen & Toubro\n"
     ]
    }
   ],
   "source": [
    "class Employee:\n",
    "    company_name = \"Larsen & Toubro\"    #class variable\n",
    "    \n",
    "    def __init__(self, firstname, lastname):\n",
    "        self.firstname = firstname     #object or instance variable\n",
    "        self.lastname = lastname\n",
    "        \n",
    "emp1 = Employee(\"shreyanshu\", \"pachauri\")\n",
    "emp2 = Employee(\"shruti\", \"pachauri\")\n",
    "\n",
    "print(emp1.company_name)\n",
    "print(emp2.company_name)\n",
    "\n",
    "\n",
    "#here company name is class variable as it is shared by all the instances of the class.\n",
    "#while firstname and lastname are the instances variables as they are unique for every instances."
   ]
  },
  {
   "cell_type": "markdown",
   "id": "72b5d116-76d8-4e19-80a2-5030a390e992",
   "metadata": {},
   "source": [
    "# Q6. What is the purpose of the self parameter in Python class methods?\n",
    "Ans.6.\n",
    "\n",
    "In Python, the self parameter is a conventional name used to refer to the instance of a class within its methods. \n",
    "\n",
    "It acts as a reference to the instance itself, allowing the methods to access and modify its attributes.\n",
    "\n",
    "When defining a class method in Python, you need to include self as the first parameter in the method's definition.\n",
    "\n",
    "I have shown the example in the below cell."
   ]
  },
  {
   "cell_type": "code",
   "execution_count": 7,
   "id": "d3a42e7f-6fa3-4944-8e9e-1fc94ef4d8ce",
   "metadata": {},
   "outputs": [
    {
     "name": "stdout",
     "output_type": "stream",
     "text": [
      "Hello, my name is shreyanshu and I'm 26 years old.\n"
     ]
    }
   ],
   "source": [
    "class Person:\n",
    "    def __init__(self, name, age):\n",
    "        self.name = name\n",
    "        self.age = age\n",
    "\n",
    "    def greet(self):\n",
    "        print(f\"Hello, my name is {self.name} and I'm {self.age} years old.\")\n",
    "\n",
    "person = Person(\"shreyanshu\", 26)\n",
    "\n",
    "person.greet()        # Here, self refers to the person object"
   ]
  },
  {
   "cell_type": "markdown",
   "id": "6ad1016d-9620-41cc-9875-af06a71e7e02",
   "metadata": {},
   "source": [
    "# Q7. For a library management system, you have to design the \"Book\" class with OOP principles in mind. \n",
    "\n",
    "The “Book” class will have following attributes:\n",
    "\n",
    "a. title: Represents the title of the book.\n",
    "\n",
    "b. author: Represents the author(s) of the book.\n",
    "\n",
    "c. isbn: Represents the ISBN (International Standard Book Number) of the book.\n",
    "\n",
    "d. publication_year: Represents the year of publication of the book.\n",
    "\n",
    "e. available_copies: Represents the number of copies available for checkout.\n",
    "\n",
    "The class will also include the following methods:\n",
    "\n",
    "a. check_out(self): Decrements the available copies by one if there are copies available for checkout.\n",
    "\n",
    "b. return_book(self): Increments the available copies by one when a book is returned.\n",
    "\n",
    "c. display_book_info(self): Displays the information about the book, including its attributes and the number of available copies.\n",
    "\n",
    "Ans.7. \n",
    "\n",
    "I have made the library management system in the below cell"
   ]
  },
  {
   "cell_type": "code",
   "execution_count": 67,
   "id": "8bcfc710-90eb-494d-b751-d2f786d91700",
   "metadata": {},
   "outputs": [],
   "source": [
    "class Book:\n",
    "    \n",
    "    def __init__(self, title, author, isbn, publication_year, available_copies):\n",
    "        self.title = title\n",
    "        self.author = author\n",
    "        self.isbn = isbn\n",
    "        self.publication_year = publication_year\n",
    "        self.available_copies = available_copies\n",
    "        \n",
    "    def check_out(self):\n",
    "        if self.available_copies != 0:\n",
    "            self.available_copies -= 1\n",
    "        \n",
    "    def return_book(self):\n",
    "        self.available_copies += 1\n",
    "        \n",
    "    def display_book_info(self):\n",
    "        dict1 = {\"Title\" : self.title, \"Author\" : self.author, \"International Standard Book Number\" : self.isbn, \\\n",
    "                \"Publication year\" : self.publication_year, \"Available Copies\" : self.available_copies}\n",
    "        for key, value in dict1.items():\n",
    "            print(f\"{key}: {value}\")\n",
    "        \n",
    "book1 = Book(\"Harry Potter and Sorcerer's Stone\", \"J.K. Rowling\", \"123789\", 1997, 10)"
   ]
  },
  {
   "cell_type": "code",
   "execution_count": 68,
   "id": "8ebac963-56a0-4b5e-8b03-f85527e79b3f",
   "metadata": {},
   "outputs": [
    {
     "name": "stdout",
     "output_type": "stream",
     "text": [
      "Title: Harry Potter and Sorcerer's Stone\n",
      "Author: J.K. Rowling\n",
      "International Standard Book Number: 123789\n",
      "Publication year: 1997\n",
      "Available Copies: 10\n"
     ]
    }
   ],
   "source": [
    "book1.display_book_info()"
   ]
  },
  {
   "cell_type": "code",
   "execution_count": 69,
   "id": "c681db1f-7193-41a1-8307-9ae67c37106e",
   "metadata": {},
   "outputs": [
    {
     "name": "stdout",
     "output_type": "stream",
     "text": [
      "Title: Harry Potter and Sorcerer's Stone\n",
      "Author: J.K. Rowling\n",
      "International Standard Book Number: 123789\n",
      "Publication year: 1997\n",
      "Available Copies: 9\n"
     ]
    }
   ],
   "source": [
    "book1.check_out()\n",
    "book1.display_book_info()"
   ]
  },
  {
   "cell_type": "code",
   "execution_count": 70,
   "id": "ed799971-9a9f-4b6f-a17e-4ed7ac1d1263",
   "metadata": {},
   "outputs": [
    {
     "name": "stdout",
     "output_type": "stream",
     "text": [
      "Title: Harry Potter and Sorcerer's Stone\n",
      "Author: J.K. Rowling\n",
      "International Standard Book Number: 123789\n",
      "Publication year: 1997\n",
      "Available Copies: 8\n"
     ]
    }
   ],
   "source": [
    "book1.check_out()\n",
    "book1.display_book_info()"
   ]
  },
  {
   "cell_type": "code",
   "execution_count": 71,
   "id": "cb0ec139-de81-41fb-b939-57b238061b14",
   "metadata": {},
   "outputs": [
    {
     "name": "stdout",
     "output_type": "stream",
     "text": [
      "Title: Harry Potter and Sorcerer's Stone\n",
      "Author: J.K. Rowling\n",
      "International Standard Book Number: 123789\n",
      "Publication year: 1997\n",
      "Available Copies: 9\n"
     ]
    }
   ],
   "source": [
    "book1.return_book()\n",
    "book1.display_book_info()"
   ]
  },
  {
   "cell_type": "markdown",
   "id": "4bad59a1-195a-4ee5-9c34-b7ab44a979fb",
   "metadata": {},
   "source": [
    "# Q8. For a ticket booking system, you have to design the \"Ticket\" class with OOP principles in mind. \n",
    "\n",
    "The “Ticket” class should have the following attributes:\n",
    "\n",
    "a. ticket_id: Represents the unique identifier for the ticket.\n",
    "\n",
    "b. event_name: Represents the name of the event.\n",
    "\n",
    "c. event_date: Represents the date of the event.\n",
    "\n",
    "d. venue: Represents the venue of the event.\n",
    "\n",
    "e. seat_number: Represents the seat number associated with the ticket.\n",
    "\n",
    "f. price: Represents the price of the ticket.\n",
    "\n",
    "g. is_reserved: Represents the reservation status of the ticket.\n",
    "\n",
    "The class also includes the following methods:\n",
    "\n",
    "a. reserve_ticket(self): Marks the ticket as reserved if it is not already reserved.\n",
    "\n",
    "b. cancel_reservation(self): Cancels the reservation of the ticket if it is alreadyreserved.\n",
    "\n",
    "c. display_ticket_info(self): Displays the information about the ticket, including its attributes and reservation status.\n",
    "\n",
    "Ans.8.\n",
    "\n",
    "I have prepared the ticket booking system in the below cell."
   ]
  },
  {
   "cell_type": "code",
   "execution_count": 13,
   "id": "dcdd7247-9973-4b2d-bd66-a9895f188129",
   "metadata": {},
   "outputs": [],
   "source": [
    "import datetime\n",
    "\n",
    "class Ticket:\n",
    "    \n",
    "    def __init__(self, ticket_id, event_name, event_date, venue, seat_number, price, is_reserved):\n",
    "        self.ticket_id = ticket_id\n",
    "        self.event_name = event_name\n",
    "        self.event_date = event_date\n",
    "        self.venue = venue\n",
    "        self.seat_number = seat_number\n",
    "        self.price = price\n",
    "        self.is_reserved = is_reserved\n",
    "        \n",
    "    def reserve_ticket(self):\n",
    "        self.is_reserved = \"TICKET CONFIRMED\"\n",
    "    \n",
    "    def cancel_reservation(self):\n",
    "        self.is_reserved = \"TICKET CANCELLED\"\n",
    "    \n",
    "    def display_ticket_info(self, name):\n",
    "        self.name = name\n",
    "        dict1 = {\"Passenger Name\" : self.name, \"Ticket ID\" : self.ticket_id, \"Event name\" : self.event_name, \\\n",
    "                 \"Event date\" : self.event_date, \"Venue of Event\" : self.venue, \"Seat Number\" : self.seat_number, \\\n",
    "                 \"Price of ticket\" : self.price, \"Reservation Status\" : self.is_reserved}\n",
    "        for key, value in dict1.items():\n",
    "            print(f\"{key}: {value}\")"
   ]
  },
  {
   "cell_type": "code",
   "execution_count": 8,
   "id": "024cf6cb-002c-4829-b5ee-9e6566902fd9",
   "metadata": {},
   "outputs": [
    {
     "name": "stdout",
     "output_type": "stream",
     "text": [
      "Passenger Name: Shreyanshu Pachauri\n",
      "Ticket ID: 123ABC\n",
      "Event name: Diwali Vacation\n",
      "Event date: 2023-11-10\n",
      "Venue of Event: Kota\n",
      "Seat Number: 72\n",
      "Price of ticket: 1641\n",
      "Reservation Status: TICKET CONFIRMED\n"
     ]
    }
   ],
   "source": [
    "passenger1 = Ticket(\"123ABC\", \"Diwali Vacation\", datetime.date(2023, 11, 10), \"Kota\", 72, 1641, \"None\")\n",
    "passenger1.reserve_ticket()\n",
    "passenger1.display_ticket_info(\"Shreyanshu Pachauri\")"
   ]
  },
  {
   "cell_type": "code",
   "execution_count": 9,
   "id": "fc27dd6e-5afd-4076-b977-3158eeb2afd8",
   "metadata": {},
   "outputs": [
    {
     "name": "stdout",
     "output_type": "stream",
     "text": [
      "Passenger Name: Shruti Pachauri\n",
      "Ticket ID: 789XYZ\n",
      "Event name: Rakshabandhan\n",
      "Event date: 2023-08-25\n",
      "Venue of Event: Ahmedabad\n",
      "Seat Number: 21\n",
      "Price of ticket: 245\n",
      "Reservation Status: TICKET CANCELLED\n"
     ]
    }
   ],
   "source": [
    "passenger2 = Ticket(\"789XYZ\", \"Rakshabandhan\", datetime.date(2023, 8, 25), \"Ahmedabad\", 21, 245, \"None\")\n",
    "passenger2.cancel_reservation()\n",
    "passenger2.display_ticket_info(\"Shruti Pachauri\")"
   ]
  },
  {
   "cell_type": "markdown",
   "id": "f4c2649a-7938-4d9b-80f8-7554ab9bce44",
   "metadata": {},
   "source": [
    "# Q9. You are creating a shopping cart for an e-commerce website. Using OOP to model the \"ShoppingCart\" functionality \n",
    "\n",
    "the class should contain following attributes and methods:\n",
    "\n",
    "a. items: Represents the list of items in the shopping cart.\n",
    "\n",
    "The class also includes the following methods:\n",
    "\n",
    "a. add_item(self, item): Adds an item to the shopping cart by appending it to the list of items.\n",
    "\n",
    "b. remove_item(self, item): Removes an item from the shopping cart if it exists in the list.\n",
    "\n",
    "c. view_cart(self): Displays the items currently present in the shopping cart.\n",
    "\n",
    "d. clear_cart(self): Clears all items from the shopping cart by reassigning an empty list to the items attribute.\n",
    "\n",
    "Ans.9.\n",
    "\n",
    "I have prepared the shopping cart in the below cell."
   ]
  },
  {
   "cell_type": "code",
   "execution_count": 39,
   "id": "030c215e-0fab-4d1f-8c69-76e4d517d2a0",
   "metadata": {},
   "outputs": [],
   "source": [
    "class ShoppingCart:\n",
    "    \n",
    "    def __init__(self, items):\n",
    "        self.items = items\n",
    "        \n",
    "    def add_item(self, item):\n",
    "        self.items.append(item)\n",
    "        \n",
    "    def remove_item(self, item):\n",
    "        self.items.remove(item)\n",
    "        \n",
    "    def view_cart(self):\n",
    "        list1 = self.items\n",
    "        if len(list1) == 0:\n",
    "            print(\"Your Shopping cart is empty\")\n",
    "        else:\n",
    "            print(\"The list of Shopping cart consists of the following items:\")\n",
    "            for i in list1:\n",
    "                print(i)\n",
    "            \n",
    "    def clear_cart(self):\n",
    "        self.items = []"
   ]
  },
  {
   "cell_type": "code",
   "execution_count": 40,
   "id": "ea64480b-b321-45f1-9943-0560df8166c8",
   "metadata": {},
   "outputs": [
    {
     "name": "stdout",
     "output_type": "stream",
     "text": [
      "The list of Shopping cart consists of the following items:\n",
      "Amul Ghee\n",
      "Mixer Grinder\n",
      "Iron\n",
      "Bikaji Bhujia\n",
      "Bingo Chips\n",
      "Lux Soap\n",
      "Colgate\n",
      "Ginger Garlic Paste\n",
      "Patanjali Mustard Oil\n",
      "Swastic Aata\n",
      "Spoon\n",
      "Soya sticks\n"
     ]
    }
   ],
   "source": [
    "cart1 = ShoppingCart([\"Amul Ghee\", \"Mixer Grinder\", \"Iron\", \"Bikaji Bhujia\", \"Bingo Chips\", \"Lux Soap\", \"Colgate\", \\\n",
    "                      \"Ginger Garlic Paste\", \"Patanjali Mustard Oil\", \"Swastic Aata\", \"Spoon\", \"Soya sticks\"])\n",
    "cart1.view_cart()"
   ]
  },
  {
   "cell_type": "code",
   "execution_count": 41,
   "id": "c8ac9509-fcc9-4256-a6f7-016544ff437b",
   "metadata": {},
   "outputs": [
    {
     "name": "stdout",
     "output_type": "stream",
     "text": [
      "The list of Shopping cart consists of the following items:\n",
      "Amul Ghee\n",
      "Mixer Grinder\n",
      "Iron\n",
      "Bikaji Bhujia\n",
      "Lux Soap\n",
      "Colgate\n",
      "Ginger Garlic Paste\n",
      "Patanjali Mustard Oil\n",
      "Swastic Aata\n",
      "Fogg Spray\n",
      "Raincoat\n"
     ]
    }
   ],
   "source": [
    "cart1.remove_item(\"Spoon\")\n",
    "cart1.remove_item(\"Soya sticks\")\n",
    "cart1.remove_item(\"Bingo Chips\")\n",
    "cart1.add_item(\"Fogg Spray\")\n",
    "cart1.add_item(\"Raincoat\")\n",
    "cart1.view_cart()"
   ]
  },
  {
   "cell_type": "code",
   "execution_count": 42,
   "id": "ca0f0b63-94c5-45a3-bda9-4642d4b2d5e4",
   "metadata": {},
   "outputs": [
    {
     "name": "stdout",
     "output_type": "stream",
     "text": [
      "Your Shopping cart is empty\n"
     ]
    }
   ],
   "source": [
    "cart1.clear_cart()\n",
    "cart1.view_cart()"
   ]
  },
  {
   "cell_type": "markdown",
   "id": "21aabb40-4b17-455a-83dd-7e466345b647",
   "metadata": {},
   "source": [
    "# Q10. Imagine a school management system. You have to design the \"Student\" class using OOP concepts.\n",
    "\n",
    "The “Student” class has the following attributes:\n",
    "\n",
    "a. name: Represents the name of the student.\n",
    "\n",
    "b. age: Represents the age of the student.\n",
    "\n",
    "c. grade: Represents the grade or class of the student.\n",
    "\n",
    "d. student_id: Represents the unique identifier for the student.\n",
    "\n",
    "e. attendance: Represents the attendance record of the student.\n",
    "\n",
    "The class should also include the following methods:\n",
    "\n",
    "a. update_attendance(self, date, status): Updates the attendance record of the student for a given date with the provided status (e.g., present or absent).\n",
    "\n",
    "b. get_attendance(self): Returns the attendance record of the student.\n",
    "\n",
    "c. get_average_attendance(self): Calculates and returns the average attendance percentage of the student based on their attendance record.\n",
    "\n",
    "Ans.10.\n",
    "\n",
    "I have designed the school Management System in the below cell."
   ]
  },
  {
   "cell_type": "code",
   "execution_count": 59,
   "id": "2a16d9a4-6c17-47e0-bd1b-5d410c04ad4b",
   "metadata": {},
   "outputs": [],
   "source": [
    "import datetime\n",
    "\n",
    "class Student:\n",
    "    \n",
    "    def __init__(self, name, age, grade, student_id, total_classes_conducted, attendance):\n",
    "        self.name = name\n",
    "        self.age = age\n",
    "        self.grade = grade\n",
    "        self.student_id = student_id\n",
    "        self.total_classes_conducted = total_classes_conducted\n",
    "        self.attendance = attendance\n",
    "        \n",
    "    def update_attendance(self, date, status):\n",
    "        if status == \"Present\":\n",
    "            self.total_classes_conducted += 1\n",
    "            self.attendance += 1\n",
    "        else:\n",
    "            self.total_classes_conducted += 1\n",
    "            self.attendance += 0\n",
    "            \n",
    "    def get_attendance(self):\n",
    "        dict1 = {\"Name\" : self.name, \"Age\" : self.age, \"Grade\" : self.grade, \"Student ID\" : self.student_id, \\\n",
    "                 \"Total Number of Classes Conducted\" : self.total_classes_conducted, \\\n",
    "                 \"Total Attendance\" : self.attendance}\n",
    "        for key, value in dict1.items():\n",
    "            print(f\"{key}: {value}\")\n",
    "            \n",
    "    def get_average_attendance(self):\n",
    "        average_attendance = (self.attendance / self.total_classes_conducted) * 100\n",
    "        print(f\"The average attendance of {self.name} is {average_attendance} %\")        "
   ]
  },
  {
   "cell_type": "code",
   "execution_count": 60,
   "id": "ffb83ecc-ff34-4c86-a313-4b2a8bbce5f7",
   "metadata": {},
   "outputs": [
    {
     "name": "stdout",
     "output_type": "stream",
     "text": [
      "Name: Shreyanshu Pachauri\n",
      "Age: 18\n",
      "Grade: 12th\n",
      "Student ID: 20312722\n",
      "Total Number of Classes Conducted: 50\n",
      "Total Attendance: 45\n"
     ]
    }
   ],
   "source": [
    "student1 = Student(\"Shreyanshu Pachauri\", 18, \"12th\", \"20312722\", 50, 45)\n",
    "student1.get_attendance()"
   ]
  },
  {
   "cell_type": "code",
   "execution_count": 61,
   "id": "78687e8e-1223-4ba2-89ba-a80fe1777b77",
   "metadata": {},
   "outputs": [
    {
     "name": "stdout",
     "output_type": "stream",
     "text": [
      "Name: Shreyanshu Pachauri\n",
      "Age: 18\n",
      "Grade: 12th\n",
      "Student ID: 20312722\n",
      "Total Number of Classes Conducted: 51\n",
      "Total Attendance: 46\n"
     ]
    }
   ],
   "source": [
    "student1.update_attendance(datetime.date(2023, 7, 26), \"Present\")\n",
    "student1.get_attendance()"
   ]
  },
  {
   "cell_type": "code",
   "execution_count": 62,
   "id": "928032dc-2c5a-499d-bd44-80fd0a313725",
   "metadata": {},
   "outputs": [
    {
     "name": "stdout",
     "output_type": "stream",
     "text": [
      "Name: Shreyanshu Pachauri\n",
      "Age: 18\n",
      "Grade: 12th\n",
      "Student ID: 20312722\n",
      "Total Number of Classes Conducted: 52\n",
      "Total Attendance: 46\n"
     ]
    }
   ],
   "source": [
    "student1.update_attendance(datetime.date(2023, 7, 27), \"Absent\")\n",
    "student1.get_attendance()"
   ]
  },
  {
   "cell_type": "code",
   "execution_count": 63,
   "id": "4eda1a1f-6319-4959-9c6b-ee42d6bd8250",
   "metadata": {},
   "outputs": [
    {
     "name": "stdout",
     "output_type": "stream",
     "text": [
      "Name: Shreyanshu Pachauri\n",
      "Age: 18\n",
      "Grade: 12th\n",
      "Student ID: 20312722\n",
      "Total Number of Classes Conducted: 53\n",
      "Total Attendance: 47\n"
     ]
    }
   ],
   "source": [
    "student1.update_attendance(datetime.date(2023, 7, 28), \"Present\")\n",
    "student1.get_attendance()"
   ]
  },
  {
   "cell_type": "code",
   "execution_count": 64,
   "id": "8d62d5dd-5685-4f78-be94-db3df91c87aa",
   "metadata": {},
   "outputs": [
    {
     "name": "stdout",
     "output_type": "stream",
     "text": [
      "Name: Shreyanshu Pachauri\n",
      "Age: 18\n",
      "Grade: 12th\n",
      "Student ID: 20312722\n",
      "Total Number of Classes Conducted: 54\n",
      "Total Attendance: 47\n"
     ]
    }
   ],
   "source": [
    "student1.update_attendance(datetime.date(2023, 7, 29), \"Absent\")\n",
    "student1.get_attendance()"
   ]
  },
  {
   "cell_type": "code",
   "execution_count": 65,
   "id": "49347af6-d7d0-4db2-973a-dd5d883adaf3",
   "metadata": {},
   "outputs": [
    {
     "name": "stdout",
     "output_type": "stream",
     "text": [
      "The average attendance of Shreyanshu Pachauri is 87.03703703703704 %\n"
     ]
    }
   ],
   "source": [
    "student1.get_average_attendance()"
   ]
  }
 ],
 "metadata": {
  "kernelspec": {
   "display_name": "Python 3 (ipykernel)",
   "language": "python",
   "name": "python3"
  },
  "language_info": {
   "codemirror_mode": {
    "name": "ipython",
    "version": 3
   },
   "file_extension": ".py",
   "mimetype": "text/x-python",
   "name": "python",
   "nbconvert_exporter": "python",
   "pygments_lexer": "ipython3",
   "version": "3.10.6"
  }
 },
 "nbformat": 4,
 "nbformat_minor": 5
}
