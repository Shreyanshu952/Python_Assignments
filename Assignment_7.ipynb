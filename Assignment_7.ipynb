{
 "cells": [
  {
   "cell_type": "markdown",
   "id": "02d9ae32-e12c-45f3-bf12-045297cb07b4",
   "metadata": {},
   "source": [
    "\n",
    "Q.1. Create two int type variables, apply addition, subtraction, division and multiplications and store the results in variables. Then print the data in the following format by calling the\n",
    "variables:\n",
    "    \n",
    "First variable is __ & second variable is __.\n",
    "\n",
    "Addition: __ + __ = __\n",
    "\n",
    "Subtraction: __ - __ = __\n",
    "\n",
    "Multiplication: __ * __ = __\n",
    "\n",
    "Division: __ / __ = __\n",
    "\n",
    "Ans.1. - I have written the code in the next cell"
   ]
  },
  {
   "cell_type": "code",
   "execution_count": 5,
   "id": "cb74731b-aae1-4d71-a783-76b19b5ca4b1",
   "metadata": {},
   "outputs": [
    {
     "name": "stdin",
     "output_type": "stream",
     "text": [
      "enter First variable 10\n",
      "enter Second Variable 5\n"
     ]
    },
    {
     "name": "stdout",
     "output_type": "stream",
     "text": [
      "Addition: 10 + 5 = 15\n",
      "Subtraction: 10 - 5 = 5\n",
      "Multipliction: 10 * 5 = 50\n",
      "Division: 10 / 5 = 2.0\n"
     ]
    }
   ],
   "source": [
    "a=int(input(\"enter First variable\"))\n",
    "b=int(input(\"enter Second Variable\"))\n",
    "\n",
    "Add = a+b\n",
    "Sub = a-b\n",
    "Mult = a*b\n",
    "Div = a/b\n",
    "\n",
    "print(f\"Addition: {a} + {b} = {Add}\")\n",
    "print(f\"Subtraction: {a} - {b} = {Sub}\")\n",
    "print(f\"Multipliction: {a} * {b} = {Mult}\")\n",
    "print(f\"Division: {a} / {b} = {Div}\")"
   ]
  },
  {
   "cell_type": "markdown",
   "id": "bba677b7-9d2b-444f-9ff5-71dc8849b183",
   "metadata": {},
   "source": [
    "Q.2. What is the difference between the following operators:\n",
    "\n",
    "\n",
    "(i) ‘/’ & ‘//’\n",
    "\n",
    "'/' is the division operator which divides and gave the desired output\n",
    "\n",
    "while '//' is the floor division operator that keeps the the quotient after division i.e. if 14 is divided by 4 than the quotient will be 3 and remainder will be 2. Now when we apply floor division then the resultant output will be quotient i.e. 3\n",
    "\n",
    "\n",
    "\n",
    "(ii) ‘**’ & ‘^’\n",
    "\n",
    "'**' is the exponential operator.\n",
    "\n",
    "'^' is the XOR BIWISE operator which Compares each bit of the first operand with the corresponding bit of the second operand. If one of the bits is 1 (but not all), the corresponding result bit is set to 1. Otherwise, the result bit is set to 0.\n",
    "\n",
    "\n",
    "Ans.2. - I have explained the answer with examples in the next cell"
   ]
  },
  {
   "cell_type": "code",
   "execution_count": 8,
   "id": "c0597b4b-be70-4cdd-b85f-6d2f79ab62ab",
   "metadata": {},
   "outputs": [
    {
     "name": "stdout",
     "output_type": "stream",
     "text": [
      "2.5\n",
      "2\n",
      "10000\n",
      "14\n"
     ]
    }
   ],
   "source": [
    "a=10\n",
    "b=4\n",
    "\n",
    "print(a/b)    #output = 2.5 (simple division)\n",
    "\n",
    "print(a//b)  #output = 2 (i.e quotient)\n",
    "\n",
    "print(10**4)  #output = 10*10*10*10 = 10000\n",
    "\n",
    "print(a^b)\n",
    "\n",
    "# 1 0 1 0     (binary of 10)\n",
    "# 0 1 0 0     (binary of 4)\n",
    "# --------\n",
    "# 1 1 1 0     (binary of 14)"
   ]
  },
  {
   "cell_type": "markdown",
   "id": "ca6fe5bb-569b-4edb-b004-68166a35220e",
   "metadata": {},
   "source": [
    "Q.3. List the logical operators.\n",
    "\n",
    "Ans.3. LOGICAL OPERATORS: Used to combine conditional statements\n",
    "\n",
    "1) AND OPERATOR: If both the statements are true then the output is true otherwise false.\n",
    "2) OR OPERATOR: If any of the two statements is true then the output is true otherwise false.\n",
    "3) NOT OPERATOR: If the statemnt is true then the output is false and if the statement is false then the output is true."
   ]
  },
  {
   "cell_type": "markdown",
   "id": "82b6f0d8-9c12-4ed2-8f28-b83326d8108e",
   "metadata": {},
   "source": [
    "Q.4. Explain right shift operator and left shift operator with examples.\n",
    "\n",
    "Ans.4. I have expplained in below cell"
   ]
  },
  {
   "cell_type": "code",
   "execution_count": 13,
   "id": "f10d2e61-b3bf-4dc7-83e7-20ed829d3cfe",
   "metadata": {},
   "outputs": [
    {
     "name": "stdout",
     "output_type": "stream",
     "text": [
      "After right shift result is  2\n",
      "\n",
      "After left shift result is  20\n"
     ]
    }
   ],
   "source": [
    "# Right Shift Operator (>>) - Shifts the bits of the number to the right by the number of bits specified. \n",
    "#                             Each shift to the right corresponds to dividing the number by 2.\n",
    "\n",
    "a = 10            \n",
    "result = a >> 2 \n",
    "print(\"After right shift result is \", result)\n",
    "\n",
    "# 10 =  1 0 1 0\n",
    "# 5  =  0 1 0 1    # after 1st shift to right\n",
    "# 2 =   0 0 1 0    # after 2nd shift to right   (Output is 2)\n",
    "\n",
    "print()\n",
    "\n",
    "#Left Shift Operator (<<) - Shifts the bits of the number to the left by the number of bits specified. \n",
    "#                           Each shift to the left corresponds to multiplying the number by 2.\n",
    "\n",
    "a = 5\n",
    "result = a << 2\n",
    "print(\"After left shift result is \", result)\n",
    "\n",
    "# 5  =    0 1 0 1 \n",
    "# 10 =    1 0 1 0   # after 1st shift to left\n",
    "# 20 =  1 0 1 0 0   # after 2nd shift to left  (Output is 20)"
   ]
  },
  {
   "cell_type": "markdown",
   "id": "e13b9e18-46a2-455e-8b06-974d5f15377d",
   "metadata": {},
   "source": [
    "Q.5. Create a list containing int type data of length 15. Then write a code to check if 10 is present in the list or not.\n",
    "\n",
    "Ans.5. I have done the answer in the next cell"
   ]
  },
  {
   "cell_type": "code",
   "execution_count": 18,
   "id": "1210098b-aeff-4eb5-a7cb-bfaf5e1f92a6",
   "metadata": {},
   "outputs": [
    {
     "name": "stdout",
     "output_type": "stream",
     "text": [
      "10 is present in the list\n"
     ]
    }
   ],
   "source": [
    "list1 = [ 1, 2, 3, 4, 5, 6, 7, 8, 9, 10, 11, 12, 13, 14, 15]\n",
    "\n",
    "for i in list1:\n",
    "    if i==10:\n",
    "        print(f\"{i} is present in the list\")\n",
    "    \n"
   ]
  }
 ],
 "metadata": {
  "kernelspec": {
   "display_name": "Python 3 (ipykernel)",
   "language": "python",
   "name": "python3"
  },
  "language_info": {
   "codemirror_mode": {
    "name": "ipython",
    "version": 3
   },
   "file_extension": ".py",
   "mimetype": "text/x-python",
   "name": "python",
   "nbconvert_exporter": "python",
   "pygments_lexer": "ipython3",
   "version": "3.10.6"
  }
 },
 "nbformat": 4,
 "nbformat_minor": 5
}
