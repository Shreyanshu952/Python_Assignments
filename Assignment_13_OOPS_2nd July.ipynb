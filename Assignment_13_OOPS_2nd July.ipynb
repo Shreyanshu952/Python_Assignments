{
 "cells": [
  {
   "cell_type": "markdown",
   "id": "2ae8d92a-496a-4e11-8d79-181aa32d3f56",
   "metadata": {},
   "source": [
    "# Q1. Explain what inheritance is in object-oriented programming and why it is used.\n",
    "\n",
    "Ans.1. \n",
    "\n",
    "It is a mechanism that allows you to create a hierarchy of classes that share a set of properties and methods by deriving a class from another class. \n",
    "\n",
    "Inheritance is the capability of one class (usually child class) to derive or inherit the properties from another class (usually parent class). \n",
    "\n",
    "It is used due to following reason:\n",
    "\n",
    "1) It represents real-world relationships well.\n",
    "2) It provides the reusability of a code. We don’t have to write the same code again and again. Also, it allows us to add more features to a class without modifying it.\n",
    "3) It is transitive in nature, which means that if class B inherits from another class A, then all the subclasses of B would automatically inherit from class A.\n",
    "4) Inheritance offers a simple, understandable model structure. \n",
    "5) Less development and maintenance expenses result from an inheritance. "
   ]
  },
  {
   "cell_type": "markdown",
   "id": "c4a962d3-84e2-47e6-889e-550b00076f36",
   "metadata": {},
   "source": [
    "# Q2. Discuss the concept of single inheritance and multiple inheritance, highlighting their differences and advantages.\n",
    "\n",
    "Ans.2.\n",
    "\n",
    "In single inheritance a child class has only one parent class while in multiple inheritance a child class has more than one parent class.\n",
    "\n",
    "<li>Differences:\n",
    "\n",
    "1) Single inheritance is a mechanism in which a derived class inherits from a single base class whereas Multiple inheritance is a mechanism in which a derived class inherits from multiple base classes.\n",
    "2) Single inheritance is simpler to implement whereas Multiple inheritance is more complex to implement\n",
    "3) Single inheritance is less flexible whereas Multiple inheritance is more flexible.\n",
    "4) Single inheritance is less error-prone. whereas Multiple inheritance is more error-prone.\n",
    "    \n",
    "<li>Advantages of Single Inheritance:\n",
    "\n",
    "1) It is simpler to implement.\n",
    "2) It is less error-prone.\n",
    "3) It is less complex.\n",
    "    \n",
    "<li>Advantages of Multiple Inheritance:\n",
    "\n",
    "1) It is more flexible.\n",
    "2) It can inherit the properties of multiple classes.\n",
    "3) It can be used to model more complex relationships.\n",
    "    \n",
    "I have shown the examples of both single inheritance and multiple inheriatance in below cell."
   ]
  },
  {
   "cell_type": "code",
   "execution_count": 1,
   "id": "00118d1c-7a7d-442e-b1e3-db9131aeb936",
   "metadata": {},
   "outputs": [
    {
     "name": "stdout",
     "output_type": "stream",
     "text": [
      "Name is: shreyanshu\n",
      "Grade is: A+\n",
      "\n",
      "Father : Santosh Pachauri\n",
      "Mother : Suman Sharma\n"
     ]
    }
   ],
   "source": [
    "#Single Inheritance\n",
    "\n",
    "class person:\n",
    "    \n",
    "    def __init__(self, name):\n",
    "        self.name = name\n",
    "        \n",
    "    def display_info(self):\n",
    "        print(f\"Name is: {self.name}\")\n",
    "\n",
    "class student(person):\n",
    "    \n",
    "    def __init__(self, name, grade):\n",
    "        # super keyword is used for inheriting paramteres from the derived parents class\n",
    "        super().__init__(name)       \n",
    "        self.grade = grade\n",
    "        \n",
    "    def display_info(self):\n",
    "        super().display_info()\n",
    "        return f\"Grade is: {self.grade}\"\n",
    "    \n",
    "Student1 = student(\"shreyanshu\", \"A+\")\n",
    "print(Student1.display_info())\n",
    "\n",
    "print()\n",
    "\n",
    "#Multiple Inheritance\n",
    "\n",
    "class Father:\n",
    "    \n",
    "    def father(self, fathername):\n",
    "        print(self.fathername)\n",
    "\n",
    "class Mother:\n",
    "    \n",
    "    def mother(self, mothername):\n",
    "        print(self.mothername)\n",
    "\n",
    "class Child(Father, Mother):\n",
    "    \n",
    "    def parent(self):\n",
    "        print(\"Father :\", self.fathername)\n",
    "        print(\"Mother :\", self.mothername)\n",
    "\n",
    "s1 = Child()\n",
    "s1.fathername = \"Santosh Pachauri\"\n",
    "s1.mothername = \"Suman Sharma\"\n",
    "s1.parent()"
   ]
  },
  {
   "cell_type": "markdown",
   "id": "15cbc8fd-6cca-4c42-b1cf-a6dc8060bfab",
   "metadata": {},
   "source": [
    "# Q3. Explain the terms \"base class\" and \"derived class\" in the context of inheritance.\n",
    "\n",
    "Ans.3.\n",
    "\n",
    "Base class is the parent class from which the child class inherits the properties. \n",
    "\n",
    "Derived class is the child class which inherits the properties of the parent class.\n",
    "\n",
    "I have shown the example in the below cell."
   ]
  },
  {
   "cell_type": "code",
   "execution_count": 2,
   "id": "03814b92-1c13-45ad-a5e0-777dc54803d7",
   "metadata": {},
   "outputs": [
    {
     "name": "stdout",
     "output_type": "stream",
     "text": [
      "2023 of Hyundai Verna has a great engine\n",
      "2023 of Hyundai Verna gives a good mileage\n",
      "\n",
      "2023 of Volva has a great engine\n",
      "2023 of Volva is good for public transportation\n"
     ]
    }
   ],
   "source": [
    "class Vehicle:\n",
    "    \n",
    "    def __init__(self, model, brand):\n",
    "        self.model = model\n",
    "        self.brand = brand\n",
    "        \n",
    "    def start_engine(self):\n",
    "        print(f\"{self.model} of {self.brand} has a great engine\")\n",
    "        \n",
    "class Car(Vehicle):\n",
    "    \n",
    "    def __init__(self, model, brand):\n",
    "        super().__init__(model, brand)\n",
    "        \n",
    "    def start_engine(self):\n",
    "        super().start_engine()\n",
    "        return f\"{self.model} of {self.brand} gives a good mileage\"\n",
    "    \n",
    "class Bus(Vehicle):\n",
    "    \n",
    "    def __init__(self, model, brand):\n",
    "        super().__init__(model, brand)\n",
    "        \n",
    "    def start_engine(self):\n",
    "        super().start_engine()\n",
    "        return f\"{self.model} of {self.brand} is good for public transportation\"\n",
    "    \n",
    "car1 = Car(2023, \"Hyundai Verna\")\n",
    "print(car1.start_engine())\n",
    "\n",
    "print()\n",
    "\n",
    "bus1 = Bus(2023, \"Volva\")\n",
    "print(bus1.start_engine())\n",
    "\n",
    "#here Vehicle is base class while Car and Bus are derived class"
   ]
  },
  {
   "cell_type": "markdown",
   "id": "35f5ac3d-de14-4f1c-a908-f1f7f3e48b67",
   "metadata": {},
   "source": [
    "# Q4. What is the significance of the \"protected\" access modifier in inheritance? How does it differ from \"private\" and \"public\" modifiers?\n",
    "\n",
    "Ans.4. \n",
    "\n",
    "<li> Protected Access Modifiers\n",
    "    \n",
    "    1)The members of a class that are declared protected are only accessible to a class derived from it.\n",
    "    2) Data members of a class are declared protected by adding a single underscore ‘_’ symbol before the data member of that\n",
    "    class.\n",
    "    \n",
    "<li> Public Access Modifier\n",
    "    1) The members of a class that are declared public are easily accessible from any part of the program. All data members and\n",
    "    member functions of a class are public by default.\n",
    "    \n",
    "<li> Private access Modifiers\n",
    "    1) The members of a class that are declared private are accessible within the class only, private access modifier is the most\n",
    "    secure access modifier. \n",
    "    2) Data members of a class are declared private by adding a double underscore ‘__’ symbol before the data member of that\n",
    "    class."
   ]
  },
  {
   "cell_type": "code",
   "execution_count": 3,
   "id": "7dff3a48-bec7-4c3a-932b-733fa46fdb5c",
   "metadata": {},
   "outputs": [
    {
     "name": "stdout",
     "output_type": "stream",
     "text": [
      "Name is :shreyanshu\n",
      "Name is shreyanshu and roll number is 123\n",
      "\n",
      "the name is shreyanshu and last name is pachauri\n",
      "\n",
      "Name is shreyanshu and roll number is 123\n"
     ]
    }
   ],
   "source": [
    "#Protect Access Modifiers\n",
    "\n",
    "class Student:\n",
    "  # protected attributes\n",
    "    def __init__(self,name,roll):\n",
    "        self._name=name\n",
    "        self._roll=roll\n",
    "\n",
    "    def _display(self):\n",
    "        print(f\"Name is {self._name} and roll number is {self._roll}\")\n",
    "        \n",
    "class Genius(Student):\n",
    "    def __init__(self,name,roll):\n",
    "        super().__init__(name,roll)\n",
    "\n",
    "    def displaydetails(self):\n",
    "        print(f\"Name is :{self._name}\")\n",
    "        self._display() \n",
    "        \n",
    "genius1=Genius(\"shreyanshu\",123)\n",
    "genius1.displaydetails()\n",
    "\n",
    "print()\n",
    "\n",
    "#Public Access Modifiers\n",
    "\n",
    "class Person:\n",
    "    def __init__(self,name,lastname):\n",
    "        self.name = name\n",
    "        self.lastname = lastname\n",
    "\n",
    "    def display(self):\n",
    "        print(f\"the name is {self.name} and last name is {self.lastname}\")\n",
    "        \n",
    "person1=Person('shreyanshu','pachauri')\n",
    "person1.display()\n",
    "\n",
    "print()\n",
    "\n",
    "#Private Access Modifiers\n",
    "\n",
    "class Student:\n",
    "    # private attributes\n",
    "    def __init__(self,name,roll):\n",
    "        self.__name=name\n",
    "        self.__roll=roll\n",
    "\n",
    "    def __display(self):\n",
    "        print(f\"Name is {self.__name} and roll number is {self.__roll}\")\n",
    "\n",
    "    def display(self):\n",
    "        self.__display()\n",
    "        \n",
    "class Genius(Student):\n",
    "    def __init__(self,name,roll,subject):\n",
    "        super().__init__(name,roll)\n",
    "        self.subject=subject\n",
    "        \n",
    "genius=Genius(\"shreyanshu\",123,'AI')\n",
    "genius.display()"
   ]
  },
  {
   "cell_type": "markdown",
   "id": "8cadce83-53aa-4ef8-b41e-c7a69864eaa8",
   "metadata": {},
   "source": [
    "# Q5. What is the purpose of the \"super\" keyword in inheritance? Provide an example.\n",
    "\n",
    "Ans.5.\n",
    "\n",
    "The super() function is used to call the parent class constructor. It is used to call the constructor, methods, and properties of the parent class.\n",
    "\n",
    "I have given the example in the below cell."
   ]
  },
  {
   "cell_type": "code",
   "execution_count": 4,
   "id": "e00ca3ef-9eb0-4756-a444-8f405804b1c1",
   "metadata": {},
   "outputs": [
    {
     "name": "stdout",
     "output_type": "stream",
     "text": [
      "Name is: shreyanshu\n",
      "Grade is: A+\n"
     ]
    }
   ],
   "source": [
    "class person:\n",
    "    \n",
    "    def __init__(self, name):\n",
    "        self.name = name\n",
    "        \n",
    "    def display_info(self):\n",
    "        print(f\"Name is: {self.name}\")\n",
    "        \n",
    "class student(person):\n",
    "    \n",
    "    def __init__(self, name, grade):\n",
    "        # super keyword is used for inheriting paramteres from the derived parents class\n",
    "        super().__init__(name)       \n",
    "        self.grade = grade\n",
    "        \n",
    "    def display_info(self):\n",
    "        super().display_info()\n",
    "        return f\"Grade is: {self.grade}\"\n",
    "    \n",
    "Student1 = student(\"shreyanshu\", \"A+\")\n",
    "print(Student1.display_info())       "
   ]
  },
  {
   "cell_type": "markdown",
   "id": "c1593b82-ef2c-4166-8bfd-b8d5d127bf6e",
   "metadata": {},
   "source": [
    "# Q6. Create a base class called \"Vehicle\" with attributes like \"make\", \"model\", and \"year\". Then, create a derived class called \"Car\" that inherits from \"Vehicle\" and adds an attribute called \"fuel_type\". Implement appropriate methods in both classes.\n",
    "\n",
    "Ans.6.\n",
    "\n",
    "I have done this answer in the below cell"
   ]
  },
  {
   "cell_type": "code",
   "execution_count": 8,
   "id": "d07a995d-bad2-4e16-809e-0156a8b8e0c9",
   "metadata": {},
   "outputs": [
    {
     "name": "stdout",
     "output_type": "stream",
     "text": [
      "Hyundai car with model Verna SX comes with a mileage of 21 km per litre.\n",
      "Hyundai car with model Verna SX has an excellent pickup. It usually picks 100 meters in 10 seconds.\n"
     ]
    }
   ],
   "source": [
    "class Vehicle:\n",
    "    \n",
    "    def __init__(self, make, model, year):\n",
    "        self.make = make\n",
    "        self.model = model\n",
    "        self.year = year\n",
    "        \n",
    "    def mileage(self):\n",
    "        pass\n",
    "    \n",
    "    def pick_up(self):\n",
    "        pass\n",
    "    \n",
    "class Car(Vehicle):\n",
    "    \n",
    "    def __init__(self, make, model, year, fuel_type):\n",
    "        super().__init__(make, model, year)\n",
    "        self.fuel_type = fuel_type\n",
    "        \n",
    "    def mileage(self, mile_age):\n",
    "        self.mile_age = mile_age\n",
    "        print(f\"{self.make} car with model {self.model} comes with a mileage of {self.mile_age} km per litre.\")\n",
    "        \n",
    "    def pick_up(self, meter, pickup):\n",
    "        self.meter = meter\n",
    "        self.pickup = pickup\n",
    "        print(f\"{self.make} car with model {self.model} has an excellent pickup. It usually picks {self.meter} meters in \\\n",
    "{self.pickup} seconds.\")\n",
    "        \n",
    "car1 = Car(\"Hyundai\", \"Verna SX\", 2023, \"Diesel\")\n",
    "\n",
    "car1.mileage(21)\n",
    "car1.pick_up(100, 10)"
   ]
  },
  {
   "cell_type": "markdown",
   "id": "3292f6bf-4263-4379-80ec-bc63d5e4df9a",
   "metadata": {},
   "source": [
    "# Q7. Create a base class called \"Employee\" with attributes like \"name\" and \"salary.\" Derive two classes, \"Manager\" and \"Developer,\" from \"Employee.\" Add an additional attribute called \"department\" for the \"Manager\" class and \"programming_language\" for the \"Developer\" class.\n",
    "\n",
    "Ans.7. \n",
    "\n",
    "I have done this answer in the below cell"
   ]
  },
  {
   "cell_type": "code",
   "execution_count": 14,
   "id": "915e260b-bc21-4153-869f-960fbc0ac487",
   "metadata": {},
   "outputs": [],
   "source": [
    "class Employee:\n",
    "    \n",
    "    def __init__(self, name, salary):\n",
    "        self.name = name\n",
    "        self.salary = salary\n",
    "        \n",
    "    def display_info(self):\n",
    "        pass\n",
    "    \n",
    "class Manager(Employee):\n",
    "    \n",
    "    def __init__(self, name, salary, department):\n",
    "        super().__init__(name, salary)\n",
    "        self.department = department\n",
    "        \n",
    "    def display_info(self):\n",
    "        dict1 = {\"Name\" : self.name, \"Salary\" : self.salary, \"Department\" : self.department}\n",
    "        for key, value in dict1.items():\n",
    "            print(f\"{key}: {value}\")\n",
    "            \n",
    "class Developer(Employee):\n",
    "    \n",
    "    def __init__(self, name, salary, programming_language):\n",
    "        super().__init__(name, salary)\n",
    "        self.programming_language = programming_language\n",
    "        \n",
    "    def display_info(self):\n",
    "        dict2 = {\"Name\" : self.name, \"Salary\" : self.salary, \"Programming Language\" : self.programming_language}\n",
    "        for key, value in dict2.items():\n",
    "            print(f\"{key}: {value}\")"
   ]
  },
  {
   "cell_type": "code",
   "execution_count": 15,
   "id": "c69a2414-90d8-4bbc-a766-9b7074c50c46",
   "metadata": {},
   "outputs": [
    {
     "name": "stdout",
     "output_type": "stream",
     "text": [
      "Name: Vikas Kapadia\n",
      "Salary: 250000\n",
      "Department: Pipeline & Piping\n"
     ]
    }
   ],
   "source": [
    "emp1 = Manager(\"Vikas Kapadia\", 250000, \"Pipeline & Piping\")\n",
    "emp1.display_info()"
   ]
  },
  {
   "cell_type": "code",
   "execution_count": 16,
   "id": "6854278b-27f9-470e-afd9-f18106066a2a",
   "metadata": {},
   "outputs": [
    {
     "name": "stdout",
     "output_type": "stream",
     "text": [
      "Name: Shreyanshu Pachauri\n",
      "Salary: 100000\n",
      "Programming Language: Java Script\n"
     ]
    }
   ],
   "source": [
    "emp2 = Developer(\"Shreyanshu Pachauri\", 100000, \"Java Script\")\n",
    "emp2.display_info()"
   ]
  },
  {
   "cell_type": "markdown",
   "id": "52e2861b-e30f-46a3-925f-013cacde1c7c",
   "metadata": {},
   "source": [
    "# Q8. Design a base class called \"Shape\" with attributes like \"colour\" and \"border_width.\" Create derived classes, \"Rectangle\" and \"Circle,\" that inherit from \"Shape\" and add specific attributes like \"length\" and \"width\" for the \"Rectangle\" class and \"radius\" for the \"Circle\" class.\n",
    "\n",
    "Ans.8. \n",
    "\n",
    "I have done this answer in the below cell"
   ]
  },
  {
   "cell_type": "code",
   "execution_count": 21,
   "id": "346ade0e-fcf5-4b9e-beb6-6f1464049966",
   "metadata": {},
   "outputs": [],
   "source": [
    "import math\n",
    "\n",
    "class Shape:\n",
    "    \n",
    "    def __init__(self, colour, border_width):\n",
    "        self.colour = colour\n",
    "        self.border_width = border_width\n",
    "        \n",
    "    def perimeter(self):\n",
    "        pass\n",
    "    \n",
    "    def area(self):\n",
    "        pass\n",
    "    \n",
    "class Rectangle(Shape):\n",
    "    \n",
    "    def __init__(self, colour, border_width, length, width):\n",
    "        super().__init__(colour, border_width)\n",
    "        self.length = length\n",
    "        self.width = width\n",
    "        \n",
    "    def perimeter(self):\n",
    "        perimeter = 2 * (self.length + self.width)\n",
    "        print(f\"The perimeter of a rectangle is {perimeter}\")\n",
    "        \n",
    "    def area(self):\n",
    "        area = self.length * self.width\n",
    "        print(f\"The area of a rectangle is {area}\")\n",
    "        \n",
    "class Circle(Shape):\n",
    "    \n",
    "    def __init__(self, colour, border_width, radius):\n",
    "        super().__init__(colour, border_width)\n",
    "        self.radius = radius\n",
    "        \n",
    "    def perimeter(self):\n",
    "        perimeter = 2 * math.pi * self.radius\n",
    "        print(f\"The perimeter of a circle is {perimeter}\")\n",
    "        \n",
    "    def area(self):\n",
    "        area = math.pi * self.radius * self.radius\n",
    "        print(f\"The area of a circle is {area}\")"
   ]
  },
  {
   "cell_type": "code",
   "execution_count": 22,
   "id": "84871db7-9774-4ce0-af6c-30a52d52e446",
   "metadata": {},
   "outputs": [
    {
     "name": "stdout",
     "output_type": "stream",
     "text": [
      "The perimeter of a rectangle is 60\n",
      "The area of a rectangle is 200\n"
     ]
    }
   ],
   "source": [
    "rect1 = Rectangle(\"Red\", 5, 10, 20)\n",
    "rect1.perimeter()\n",
    "rect1.area()"
   ]
  },
  {
   "cell_type": "code",
   "execution_count": 23,
   "id": "f821648e-4cc4-48df-9ccc-41e9610b2c61",
   "metadata": {},
   "outputs": [
    {
     "name": "stdout",
     "output_type": "stream",
     "text": [
      "The perimeter of a circle is 43.982297150257104\n",
      "The area of a circle is 153.93804002589985\n"
     ]
    }
   ],
   "source": [
    "cir1 = Circle(\"Blue\", 10, 7)\n",
    "cir1.perimeter()\n",
    "cir1.area()"
   ]
  },
  {
   "cell_type": "markdown",
   "id": "1793a925-2381-4427-abe4-f0af338c9317",
   "metadata": {},
   "source": [
    "# Q9. Create a base class called \"Device\" with attributes like \"brand\" and \"model.\" Derive two classes, \"Phone\" and \"Tablet,\" from \"Device.\" Add specific attributes like \"screen_size\" for the \"Phone\" class and \"battery_capacity\" for the \"Tablet\" class.\n",
    "\n",
    "Ans.9.\n",
    "\n",
    "I have done this answer in the below cell"
   ]
  },
  {
   "cell_type": "code",
   "execution_count": 24,
   "id": "d6964aa3-c61d-458b-a735-b868c3b162de",
   "metadata": {},
   "outputs": [],
   "source": [
    "class Device:\n",
    "    \n",
    "    def __init__(self, brand, model):\n",
    "        self.brand = brand\n",
    "        self.model = model\n",
    "        \n",
    "    def display_info(self):\n",
    "        print(f\"Brand: {self.brand}\\nModel: {self.model}\")\n",
    "\n",
    "class Phone(Device):\n",
    "    \n",
    "    def __init__(self, brand, model, screen_size):\n",
    "        super().__init__(brand, model)\n",
    "        self.screen_size = screen_size\n",
    "        \n",
    "    def display_info(self):\n",
    "        super().display_info()\n",
    "        print(f\"Screen Size: {self.screen_size} inches\")\n",
    "        \n",
    "class Tablet(Device):\n",
    "    \n",
    "    def __init__(self, brand, model, battery_capacity):\n",
    "        super().__init__(brand, model)\n",
    "        self.battery_capacity = battery_capacity\n",
    "        \n",
    "    def display_info(self):\n",
    "        super().display_info()\n",
    "        print(f\"Battery Capacity: {self.battery_capacity} mAh\")"
   ]
  },
  {
   "cell_type": "code",
   "execution_count": 25,
   "id": "2d90581b-dfdf-4b59-9532-4802dc0ee4f9",
   "metadata": {},
   "outputs": [
    {
     "name": "stdout",
     "output_type": "stream",
     "text": [
      "Brand: Apple\n",
      "Model: I-Phone 14 pro max\n",
      "Screen Size: 6.3 inches\n"
     ]
    }
   ],
   "source": [
    "dev1 = Phone(\"Apple\", \"I-Phone 14 pro max\", 6.3)\n",
    "dev1.display_info()"
   ]
  },
  {
   "cell_type": "code",
   "execution_count": 26,
   "id": "c75d2011-7e1f-48c4-9ad6-f1c7b3d881c9",
   "metadata": {},
   "outputs": [
    {
     "name": "stdout",
     "output_type": "stream",
     "text": [
      "Brand: Samsung\n",
      "Model: A52s\n",
      "Battery Capacity: 30000 mAh\n"
     ]
    }
   ],
   "source": [
    "dev1 = Tablet(\"Samsung\", \"A52s\", 30000)\n",
    "dev1.display_info()"
   ]
  },
  {
   "cell_type": "markdown",
   "id": "bacc3ab0-d982-45dd-a738-b1e640f4fcf5",
   "metadata": {},
   "source": [
    "# Q10. Create a base class called \"BankAccount\" with attributes like \"account_number\" and \"balance.\" Derive two classes, \"SavingsAccount\" and \"CheckingAccount,\" from \"BankAccount.\" Add specific methods like \"calculate_interest\" for the \"SavingsAccount\" class and \"deduct_fees\" for the \"CheckingAccount\" class.\n",
    "\n",
    "Ans.10.\n",
    "\n",
    "I have done this answer in the below cell"
   ]
  },
  {
   "cell_type": "code",
   "execution_count": 32,
   "id": "cb179456-6a5e-48e2-a399-e6d99c9d92a5",
   "metadata": {},
   "outputs": [],
   "source": [
    "class BankAccount:\n",
    "    \n",
    "    def __init__(self, account_number, balance):\n",
    "        self.account_number = account_number\n",
    "        self.balance = balance\n",
    "        \n",
    "    def display_info(self):\n",
    "        print(f\"Account Number: {self.account_number}\")\n",
    "        \n",
    "class SavingsAccount(BankAccount):\n",
    "    \n",
    "    def __init__(self, account_number, balance):\n",
    "        super().__init__(account_number, balance)\n",
    "        \n",
    "    def calculate_interest(self, interest):\n",
    "        interest_amount = (interest / 100) * self.balance\n",
    "        self.balance += interest_amount\n",
    "        \n",
    "    def display_info(self):\n",
    "        super().display_info()\n",
    "        print(f\"Available Balance: {self.balance}\")\n",
    "        \n",
    "class CheckingAccount(BankAccount):\n",
    "    \n",
    "    def __init__(self, account_number, balance):\n",
    "        super().__init__(account_number, balance)\n",
    "        \n",
    "    def deduct_fees(self, annual_fee_charged):\n",
    "        self.balance -= annual_fee_charged\n",
    "        \n",
    "    def display_info(self):\n",
    "        super().display_info()\n",
    "        print(f\"Available Balance: {self.balance}\")"
   ]
  },
  {
   "cell_type": "code",
   "execution_count": 33,
   "id": "ac7d28e7-57d0-4723-bb70-a01569f3aa0e",
   "metadata": {},
   "outputs": [
    {
     "name": "stdout",
     "output_type": "stream",
     "text": [
      "Balance before Credit Interest:\n",
      "Account Number: 36062220679\n",
      "Available Balance: 121673\n",
      "\n",
      "Balance after Credit Interest:\n",
      "Account Number: 36062220679\n",
      "Available Balance: 130311.783\n"
     ]
    }
   ],
   "source": [
    "bank1 = SavingsAccount(36062220679, 121673)\n",
    "print(\"Balance before Credit Interest:\")\n",
    "bank1.display_info()\n",
    "\n",
    "bank1.calculate_interest(7.1)\n",
    "print(\"\\nBalance after Credit Interest:\")\n",
    "bank1.display_info()"
   ]
  },
  {
   "cell_type": "code",
   "execution_count": 34,
   "id": "c1fd4036-5d55-4b95-8226-0a3cbfb47f4d",
   "metadata": {},
   "outputs": [
    {
     "name": "stdout",
     "output_type": "stream",
     "text": [
      "Balance before Deducting Annual Fee:\n",
      "Account Number: 36062220679\n",
      "Available Balance: 130311.783\n",
      "\n",
      "Balance after Deducting Annual Fee:\n",
      "Account Number: 36062220679\n",
      "Available Balance: 121174\n"
     ]
    }
   ],
   "source": [
    "bank2 = CheckingAccount(36062220679, 121673)\n",
    "print(\"Balance before Deducting Annual Fee:\")\n",
    "bank1.display_info()\n",
    "\n",
    "bank2.deduct_fees(499)\n",
    "print(\"\\nBalance after Deducting Annual Fee:\")\n",
    "bank2.display_info()"
   ]
  }
 ],
 "metadata": {
  "kernelspec": {
   "display_name": "Python 3 (ipykernel)",
   "language": "python",
   "name": "python3"
  },
  "language_info": {
   "codemirror_mode": {
    "name": "ipython",
    "version": 3
   },
   "file_extension": ".py",
   "mimetype": "text/x-python",
   "name": "python",
   "nbconvert_exporter": "python",
   "pygments_lexer": "ipython3",
   "version": "3.10.6"
  }
 },
 "nbformat": 4,
 "nbformat_minor": 5
}
