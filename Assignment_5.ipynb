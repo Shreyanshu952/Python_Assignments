{
 "cells": [
  {
   "cell_type": "markdown",
   "id": "28e8d7f1-b702-4c87-babc-94144d2c8711",
   "metadata": {},
   "source": [
    "Q1. What does an empty dictionary's code look like?\n",
    "\n",
    "Ans.1. \n",
    "\n",
    "Empty Dictionary code looks like \"dict1 = {}\"\n",
    "\n",
    "I have printed the length and data type of the same in the below cell."
   ]
  },
  {
   "cell_type": "code",
   "execution_count": 13,
   "id": "f98377a6-3cf6-47ec-811f-cff2a3cb8279",
   "metadata": {},
   "outputs": [
    {
     "name": "stdout",
     "output_type": "stream",
     "text": [
      "0\n",
      "<class 'dict'>\n"
     ]
    }
   ],
   "source": [
    "dict1 = {}\n",
    "print(len(dict1))\n",
    "print(type(dict1))"
   ]
  },
  {
   "cell_type": "markdown",
   "id": "38cf98a0-984a-46dd-8c1e-31eb0d807c62",
   "metadata": {},
   "source": [
    "Q2. What is the value of a dictionary value with the key 'foo' and the value 42?\n",
    "\n",
    "Ans.2. \n",
    "\n",
    "Value of a dictionary value with the key 'foo' and the value 42 will be 42.\n",
    "\n",
    "I have printed the same in below cell."
   ]
  },
  {
   "cell_type": "code",
   "execution_count": 6,
   "id": "e976a9a7-ce7e-47ae-8d92-104b4c10d2a4",
   "metadata": {},
   "outputs": [
    {
     "name": "stdout",
     "output_type": "stream",
     "text": [
      "42\n"
     ]
    }
   ],
   "source": [
    "dict1 = {\"foo\" : 42}\n",
    "\n",
    "# Now as per questions demand, we will get the value in dict1\n",
    "\n",
    "for i in dict1.values():\n",
    "    print(i)"
   ]
  },
  {
   "cell_type": "markdown",
   "id": "a45a3e44-b824-46db-b50e-13a5df8c8947",
   "metadata": {},
   "source": [
    "Q3. What is the most significant distinction between a dictionary and a list?\n",
    "\n",
    "Ans.3.\n",
    "\n",
    "1) A list in Python is an ordered collection (also known as a sequence) of items while a dictionary in Python is an unordered collection of items. Each item stored in a dictionary has a key and value, making it a key-value pair.\n",
    "\n",
    "2) A list is created by placing items (elements) inside square brackets [], separated by commas while  dictionary is created by placing items (key-value pairs inside quotes) inside curly braces {}, separated by commas. Each item is a pair made up of a key and a value, separated by a colon.\n",
    "\n",
    "3) Items in Lists are accessed via indicies while items in dictionaries are accesed via key-values."
   ]
  },
  {
   "cell_type": "markdown",
   "id": "8c69adae-b618-4e65-9f2e-691e3ce7e3c0",
   "metadata": {},
   "source": [
    "Q4. What happens if you try to access spam ['foo] if spam is {'bar': 100}?\n",
    "\n",
    "Ans.4.\n",
    "\n",
    "Since 'foo' is not there in dictonary spam, so python will not recognize it and it will throw an error.\n",
    "\n",
    "I have mentioned the code for the same in the below error."
   ]
  },
  {
   "cell_type": "code",
   "execution_count": 14,
   "id": "d032e955-a4ea-45b7-aabe-b3476972f577",
   "metadata": {},
   "outputs": [
    {
     "ename": "KeyError",
     "evalue": "'foo'",
     "output_type": "error",
     "traceback": [
      "\u001b[0;31m---------------------------------------------------------------------------\u001b[0m",
      "\u001b[0;31mKeyError\u001b[0m                                  Traceback (most recent call last)",
      "Cell \u001b[0;32mIn [14], line 3\u001b[0m\n\u001b[1;32m      1\u001b[0m spam \u001b[38;5;241m=\u001b[39m {\u001b[38;5;124m'\u001b[39m\u001b[38;5;124mbar\u001b[39m\u001b[38;5;124m'\u001b[39m: \u001b[38;5;241m100\u001b[39m}\n\u001b[0;32m----> 3\u001b[0m \u001b[43mspam\u001b[49m\u001b[43m[\u001b[49m\u001b[38;5;124;43m\"\u001b[39;49m\u001b[38;5;124;43mfoo\u001b[39;49m\u001b[38;5;124;43m\"\u001b[39;49m\u001b[43m]\u001b[49m\n",
      "\u001b[0;31mKeyError\u001b[0m: 'foo'"
     ]
    }
   ],
   "source": [
    "spam = {'bar': 100}\n",
    "\n",
    "spam[\"foo\"]"
   ]
  },
  {
   "cell_type": "markdown",
   "id": "67873399-c766-4ce0-9a8a-d30937f857f6",
   "metadata": {},
   "source": [
    "Q5. If a dictionary is stored in spam, what is the difference between the expressions 'cat' in spam and 'cat' in spam.keys()?\n",
    "\n",
    "Ans.5.\n",
    "\n",
    "As per given,\n",
    "\n",
    "1) 'cat' in spam: This expression checks whether there is a 'cat' key present in the dictionary spam\n",
    "2) 'cat' in spam.keys(): This expression will check whether there is any key 'cat' in key's list of dictionary spam.\n",
    "\n",
    "So, ultimately both are same and there is no difference\n",
    "\n",
    "I have run the code for the same in the below cell."
   ]
  },
  {
   "cell_type": "code",
   "execution_count": 17,
   "id": "5322789f-7a3e-481c-a039-2aa6e379970a",
   "metadata": {},
   "outputs": [
    {
     "name": "stdout",
     "output_type": "stream",
     "text": [
      "True\n",
      "True\n"
     ]
    }
   ],
   "source": [
    "spam = {\"animal\" : \"pet\", \"cat\" : \"mouse\", \"dog\" : \"bark\"}\n",
    "\n",
    "spam1 = 'cat' in spam\n",
    "spam2 = 'cat' in spam.keys()\n",
    "\n",
    "print(spam1)\n",
    "print(spam2)"
   ]
  },
  {
   "cell_type": "markdown",
   "id": "466c17aa-e377-4da6-b33d-1d27b817ae2b",
   "metadata": {},
   "source": [
    "Q6. If a dictionary is stored in spam, what is the difference between the expressions 'cat' in spam and 'cat' in spam.values()?\n",
    "\n",
    "Ans.6.\n",
    "\n",
    "As per given,\n",
    "\n",
    "1) 'cat' in spam: This expression checks whether there is a 'cat' key present in the dictionary spam\n",
    "2) 'cat' in spam.values(): This expression will check whether there is any value 'cat' in values's list of dictionary spam.\n",
    "\n",
    "I have run the code for the same in the below cell.\n"
   ]
  },
  {
   "cell_type": "code",
   "execution_count": 19,
   "id": "4c286baf-2e21-414c-8ad3-b4f524ff250b",
   "metadata": {},
   "outputs": [
    {
     "name": "stdout",
     "output_type": "stream",
     "text": [
      "True\n",
      "False\n"
     ]
    }
   ],
   "source": [
    "spam = {\"animal\" : \"pet\", \"cat\" : \"mouse\", \"dog\" : \"bark\"}\n",
    "\n",
    "spam1 = 'cat' in spam\n",
    "spam2 = 'cat' in spam.values()\n",
    "\n",
    "print(spam1)\n",
    "print(spam2)\n",
    "\n",
    "#spam2 output is flase as there is no cat in values of dictionary spam."
   ]
  },
  {
   "cell_type": "markdown",
   "id": "591bd46e-2bbb-41d3-b13d-c6b7aee1f6d1",
   "metadata": {},
   "source": [
    "Q7. What is a shortcut for the following code?\n",
    "\n",
    "    if 'color' not in spam:\n",
    "    spam['color'] = 'black'\n",
    "    \n",
    "Ans.7. \n",
    "\n",
    "The shortcut function for the above code is setdefault()\n",
    "\n",
    "I have illustrated the same by using example in the below cell."
   ]
  },
  {
   "cell_type": "code",
   "execution_count": 27,
   "id": "de37c00e-4d1e-4930-84f5-95fdace7b115",
   "metadata": {},
   "outputs": [
    {
     "name": "stdout",
     "output_type": "stream",
     "text": [
      "{'yellow': 'pink'}\n",
      "\n",
      "{'yellow': 'pink', 'color': 'black'}\n"
     ]
    }
   ],
   "source": [
    "spam = {\"yellow\" : \"pink\"}\n",
    "print(spam)\n",
    "\n",
    "print()\n",
    "\n",
    "spam.setdefault(\"color\", \"black\")\n",
    "print(spam)"
   ]
  },
  {
   "cell_type": "markdown",
   "id": "4d3c8d29-7d63-40dc-ad38-5e2f9365d691",
   "metadata": {},
   "source": [
    "Q8. How do you \"pretty print\" dictionary values using which module and function?\n",
    "\n",
    "Ans.8.\n",
    "\n",
    "We use pprint() or Pretty Print that can use to print data structures in a readable, pretty way.\n",
    "\n",
    "I have used 3 methods to pretty print the dictionary values.\n",
    "\n",
    "a) using pprint function\n",
    "\n",
    "b) using keyword yaml\n",
    "\n",
    "c) using keyword json\n",
    "\n",
    "I have shown the code in the below cell."
   ]
  },
  {
   "cell_type": "code",
   "execution_count": 31,
   "id": "087e6a5c-fb5b-4910-bf26-8bffff21b7dc",
   "metadata": {},
   "outputs": [
    {
     "name": "stdout",
     "output_type": "stream",
     "text": [
      "Printing using print() function\n",
      " [{'Name': 'Shreyanshu', 'Age': '26', 'Fruits': {'Fruits1': 'Mango', 'Fruits2': 'Papaya'}}, {'Name': 'Santosh', 'Age': '53', 'Fruits': {'Fruits1': 'Cheeku', 'Fruits2': 'Banana'}}, {'Name': 'Suman', 'Age': '48', 'Fruits': {'Fruits1': 'Pomegranate', 'Fruits2': 'Pineapple'}}, {'Name': 'Shruti', 'Age': '26', 'Fruits': {'Fruits1': 'Apple', 'Fruits2': 'Grapes'}}]\n",
      "------------------------------------------------------------------------------------------------------------------------------------------------------------------------------------------------------------------\n",
      "Printing using pprint() function\n",
      "[{'Age': '26',\n",
      "  'Fruits': {'Fruits1': 'Mango', 'Fruits2': 'Papaya'},\n",
      "  'Name': 'Shreyanshu'},\n",
      " {'Age': '53',\n",
      "  'Fruits': {'Fruits1': 'Cheeku', 'Fruits2': 'Banana'},\n",
      "  'Name': 'Santosh'},\n",
      " {'Age': '48',\n",
      "  'Fruits': {'Fruits1': 'Pomegranate', 'Fruits2': 'Pineapple'},\n",
      "  'Name': 'Suman'},\n",
      " {'Age': '26',\n",
      "  'Fruits': {'Fruits1': 'Apple', 'Fruits2': 'Grapes'},\n",
      "  'Name': 'Shruti'}]\n",
      "------------------------------------------------------------------------------------------------------------------------------------------------------------------------------------------------------------------\n",
      "Printing using yaml dump() method\n",
      " - Age: '26'\n",
      "  Fruits:\n",
      "    Fruits1: Mango\n",
      "    Fruits2: Papaya\n",
      "  Name: Shreyanshu\n",
      "- Age: '53'\n",
      "  Fruits:\n",
      "    Fruits1: Cheeku\n",
      "    Fruits2: Banana\n",
      "  Name: Santosh\n",
      "- Age: '48'\n",
      "  Fruits:\n",
      "    Fruits1: Pomegranate\n",
      "    Fruits2: Pineapple\n",
      "  Name: Suman\n",
      "- Age: '26'\n",
      "  Fruits:\n",
      "    Fruits1: Apple\n",
      "    Fruits2: Grapes\n",
      "  Name: Shruti\n",
      "\n",
      "------------------------------------------------------------------------------------------------------------------------------------------------------------------------------------------------------------------\n",
      "Printing using json dumps() method\n",
      " [\n",
      "    {\n",
      "        \"Name\": \"Shreyanshu\",\n",
      "        \"Age\": \"26\",\n",
      "        \"Fruits\": {\n",
      "            \"Fruits1\": \"Mango\",\n",
      "            \"Fruits2\": \"Papaya\"\n",
      "        }\n",
      "    },\n",
      "    {\n",
      "        \"Name\": \"Santosh\",\n",
      "        \"Age\": \"53\",\n",
      "        \"Fruits\": {\n",
      "            \"Fruits1\": \"Cheeku\",\n",
      "            \"Fruits2\": \"Banana\"\n",
      "        }\n",
      "    },\n",
      "    {\n",
      "        \"Name\": \"Suman\",\n",
      "        \"Age\": \"48\",\n",
      "        \"Fruits\": {\n",
      "            \"Fruits1\": \"Pomegranate\",\n",
      "            \"Fruits2\": \"Pineapple\"\n",
      "        }\n",
      "    },\n",
      "    {\n",
      "        \"Name\": \"Shruti\",\n",
      "        \"Age\": \"26\",\n",
      "        \"Fruits\": {\n",
      "            \"Fruits1\": \"Apple\",\n",
      "            \"Fruits2\": \"Grapes\"\n",
      "        }\n",
      "    }\n",
      "]\n"
     ]
    }
   ],
   "source": [
    "new_fruits = [\n",
    "  {'Name': 'Shreyanshu', 'Age': '26', 'Fruits': {'Fruits1':'Mango', 'Fruits2': 'Papaya'}},\n",
    "  {'Name': 'Santosh', 'Age': '53', 'Fruits': {'Fruits1':'Cheeku', 'Fruits2': 'Banana'}},\n",
    "  {'Name': 'Suman', 'Age': '48', 'Fruits': {'Fruits1':'Pomegranate', 'Fruits2': 'Pineapple'}},\n",
    "  {'Name': 'Shruti', 'Age': '26', 'Fruits': {'Fruits1':'Apple', 'Fruits2': 'Grapes'}}\n",
    "]\n",
    "\n",
    "print('Printing using print() function\\n',new_fruits)\n",
    "\n",
    "print('-'*70*3)\n",
    "\n",
    "# USING pprint function\n",
    "\n",
    "import pprint\n",
    "print('Printing using pprint() function')\n",
    "pprint.pprint(new_fruits)\n",
    "\n",
    "print('-'*70*3)\n",
    "\n",
    "# USING yaml dump method\n",
    "\n",
    "import yaml\n",
    "dump = yaml.dump(new_fruits)\n",
    "print('Printing using yaml dump() method\\n', dump)\n",
    "\n",
    "print('-'*70*3)\n",
    "\n",
    "# USING json dumps method\n",
    "\n",
    "import json\n",
    "dump = json.dumps(new_fruits, indent=4)\n",
    "print('Printing using json dumps() method\\n', dump)"
   ]
  },
  {
   "cell_type": "code",
   "execution_count": null,
   "id": "3e4f741a-eb38-4c51-8bd4-ae6d1b33ef4d",
   "metadata": {},
   "outputs": [],
   "source": []
  },
  {
   "cell_type": "code",
   "execution_count": null,
   "id": "66e175ce-927e-497a-ab68-3ae25aeb41b7",
   "metadata": {},
   "outputs": [],
   "source": []
  },
  {
   "cell_type": "code",
   "execution_count": null,
   "id": "4a211524-a169-4ba3-b328-1b84d569cf71",
   "metadata": {},
   "outputs": [],
   "source": []
  }
 ],
 "metadata": {
  "kernelspec": {
   "display_name": "Python 3 (ipykernel)",
   "language": "python",
   "name": "python3"
  },
  "language_info": {
   "codemirror_mode": {
    "name": "ipython",
    "version": 3
   },
   "file_extension": ".py",
   "mimetype": "text/x-python",
   "name": "python",
   "nbconvert_exporter": "python",
   "pygments_lexer": "ipython3",
   "version": "3.10.6"
  }
 },
 "nbformat": 4,
 "nbformat_minor": 5
}
