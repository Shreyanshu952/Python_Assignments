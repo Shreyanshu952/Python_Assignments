{
 "cells": [
  {
   "cell_type": "markdown",
   "id": "938df203-43d3-42c9-8f32-40e360d092e9",
   "metadata": {},
   "source": [
    "Q1. Why are functions advantageous to have in your programs?\n",
    "\n",
    "Ans.1. \n",
    "\n",
    "1) Functions reduce the need for duplicate code. This makes programs shorter, easier to read, and easier to update.\n",
    "2) It saves our time and energy while writing the code as we do not have to worry about the backend of the code required in the usage of the function. It makes our code easy looking.\n",
    "3) The main advantage of functions is code Reusability."
   ]
  },
  {
   "cell_type": "markdown",
   "id": "d79e5263-ae2f-4549-bc46-b8869076e073",
   "metadata": {},
   "source": [
    "Q2. When does the code in a function run: when it's specified or when it's called?\n",
    "\n",
    "Ans.2. \n",
    "\n",
    "The code in a function executes when the function is called, not when the function is specified."
   ]
  },
  {
   "cell_type": "markdown",
   "id": "68f3de3b-4794-4df8-b1df-e75c59abb111",
   "metadata": {},
   "source": [
    "Q3. What statement creates a function?\n",
    "\n",
    "Ans.3.\n",
    "\n",
    "The def statement defines a function\n",
    "\n",
    "I have written the Syntax of Function in the below cell "
   ]
  },
  {
   "cell_type": "code",
   "execution_count": null,
   "id": "133a8656-fb45-4a4e-bacf-d9c3e846f35d",
   "metadata": {},
   "outputs": [],
   "source": [
    "def function_name(parameters): \n",
    "\n",
    "    -----function body----- \n",
    "    \n",
    "    return value\n",
    "    \n",
    "#calling of a function\n",
    "function_name(parameters)"
   ]
  },
  {
   "cell_type": "markdown",
   "id": "9433bd10-efbe-457d-b9a6-df74be44dc8a",
   "metadata": {},
   "source": [
    "Q4. What is the difference between a function and a function call?\n",
    "\n",
    "Ans.4. \n",
    "\n",
    "A function is procedure to achieve a particular result. while function call is using this function to achive that task. Using a function to do a particular task any point in program is called as function call."
   ]
  },
  {
   "cell_type": "markdown",
   "id": "87bdd61f-78c2-44be-8d49-ff685b38542e",
   "metadata": {},
   "source": [
    "Q5. How many global scopes are there in a Python program? How many local scopes?\n",
    "\n",
    "Ans.5. \n",
    "\n",
    "There is one global scope, and a local scope is created whenever a function is called."
   ]
  },
  {
   "cell_type": "markdown",
   "id": "289cfa1b-3b02-4247-983f-013abed77e30",
   "metadata": {},
   "source": [
    "Q6. What happens to variables in a local scope when the function call returns?\n",
    "\n",
    "Ans.6.\n",
    "\n",
    "When a function returns, the local scope is destroyed, and all the variables in it are forgotten."
   ]
  },
  {
   "cell_type": "markdown",
   "id": "dd5b0a30-041e-45bf-924b-7c68e72c8af2",
   "metadata": {},
   "source": [
    "Q7.  What is the concept of a return value? Is it possible to have a return value in an expression?\n",
    "\n",
    "Ans.7. \n",
    "\n",
    "A return value is the value that a function call evaluates to. \n",
    "\n",
    "Like any value, a return value can be used as part of an expression."
   ]
  },
  {
   "cell_type": "markdown",
   "id": "caff7eae-2277-4e98-82dd-6c0bceff1f92",
   "metadata": {},
   "source": [
    "Q8. If a function does not have a return statement, what is the return value of a call to that function?\n",
    "\n",
    "Ans.8.\n",
    "\n",
    "If there is no return statement for a function, its return value is None."
   ]
  },
  {
   "cell_type": "markdown",
   "id": "38665443-9b52-4f59-ba23-8deec7785634",
   "metadata": {},
   "source": [
    "Q9. How do you make a function variable refer to the global variable?\n",
    "\n",
    "Ans.9. \n",
    "\n",
    "A global statement will force a variable in a function to refer to the global variable. If you want to refer to a global variable in a function, you can use the global keyword to declare which variables are global."
   ]
  },
  {
   "cell_type": "markdown",
   "id": "c8785f59-950b-416f-98db-e78fe1c202fc",
   "metadata": {},
   "source": [
    "Q10. What is the data type of None?\n",
    "\n",
    "Ans.10.\n",
    "\n",
    "The data type of None is NoneType.\n",
    "\n",
    "I have shown it in the below cell"
   ]
  },
  {
   "cell_type": "code",
   "execution_count": 1,
   "id": "3a7bf7d4-a600-48fb-a156-9a4595effbf2",
   "metadata": {},
   "outputs": [
    {
     "data": {
      "text/plain": [
       "NoneType"
      ]
     },
     "execution_count": 1,
     "metadata": {},
     "output_type": "execute_result"
    }
   ],
   "source": [
    "a = None\n",
    "type(a)"
   ]
  },
  {
   "cell_type": "markdown",
   "id": "b1ccc104-261d-430d-b162-3454cc6d11da",
   "metadata": {},
   "source": [
    "Q11. What does the sentence import areallyourpetsnamederic do?\n",
    "\n",
    "Ans.11\n",
    "\n",
    "The sentence import areallyourpetsnamederic will import a module named areallyourpetsnamederic."
   ]
  },
  {
   "cell_type": "markdown",
   "id": "a475b7fb-501c-4e56-bf64-0f3c032eb518",
   "metadata": {},
   "source": [
    "Q12. If you had a bacon() feature in a spam module, what would you call it after importing spam?\n",
    "\n",
    "Ans.12.\n",
    "\n",
    "This function can be called with spam.bacon()\n",
    "\n",
    "I have shown it in below cell."
   ]
  },
  {
   "cell_type": "code",
   "execution_count": null,
   "id": "567aac6b-fa4e-48be-8306-b89f6868548b",
   "metadata": {},
   "outputs": [],
   "source": [
    "import spam\n",
    "spam.bacon()"
   ]
  },
  {
   "cell_type": "markdown",
   "id": "e12017f8-bc52-4f4f-b407-80216989b734",
   "metadata": {},
   "source": [
    "Q13. What can you do to save a programme from crashing if it encounters an error?\n",
    "\n",
    "Ans.13.\n",
    "\n",
    "Place the line of code that might cause an error in a try clause and use except block to handle the error."
   ]
  },
  {
   "cell_type": "markdown",
   "id": "5bd0b414-69d9-4fe1-b19c-fef88822bb37",
   "metadata": {},
   "source": [
    "Q14. What is the purpose of the try clause? What is the purpose of the except clause?\n",
    "\n",
    "Ans.14.\n",
    "\n",
    "The code that could potentially cause an error goes in the try clause. The code that executes if an error happens goes in the except clause."
   ]
  }
 ],
 "metadata": {
  "kernelspec": {
   "display_name": "Python 3 (ipykernel)",
   "language": "python",
   "name": "python3"
  },
  "language_info": {
   "codemirror_mode": {
    "name": "ipython",
    "version": 3
   },
   "file_extension": ".py",
   "mimetype": "text/x-python",
   "name": "python",
   "nbconvert_exporter": "python",
   "pygments_lexer": "ipython3",
   "version": "3.10.6"
  }
 },
 "nbformat": 4,
 "nbformat_minor": 5
}
