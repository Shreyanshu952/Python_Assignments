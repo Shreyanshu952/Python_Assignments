{
 "cells": [
  {
   "cell_type": "markdown",
   "id": "45980088-7bc2-4736-8eb4-52e9ce0d64b6",
   "metadata": {},
   "source": [
    "Q1. What exactly is [ ]?\n",
    "\n",
    "Ans.1. [ ] is the representation of empty list i.e. the list that contains no items inside it."
   ]
  },
  {
   "cell_type": "markdown",
   "id": "6522895d-33c9-44c1-ae34-32fa561e235a",
   "metadata": {},
   "source": [
    "Q2. In a list of values stored in a variable called spam, how would you assign the value 'hello' as the third value? (Assume [2, 4, 6, 8, 10] are in spam.)\n",
    "\n",
    "Ans.2. \n",
    "\n",
    "I have answered it in a below cell"
   ]
  },
  {
   "cell_type": "code",
   "execution_count": 2,
   "id": "66b3ae02-3876-45f4-8b1a-9d3c748735fd",
   "metadata": {},
   "outputs": [
    {
     "name": "stdout",
     "output_type": "stream",
     "text": [
      "[2, 4, 'hello', 8, 10]\n"
     ]
    }
   ],
   "source": [
    "spam = [2, 4, 6, 8, 10]\n",
    "spam[2] = \"hello\"\n",
    "print(spam)"
   ]
  },
  {
   "cell_type": "markdown",
   "id": "8a609d5d-4401-48e9-a2a5-580b2f535504",
   "metadata": {},
   "source": [
    "Let's pretend the spam includes the list ['a','b','c',d'] for the next three queries.\n",
    "\n",
    "Q3. What is the value of spam[int(int('3'*2)//11)] ?\n",
    "\n",
    "Ans.3.\n",
    "\n",
    "Here '3' * 2 is the string '33', which is passed to int() before being divided by 11. This eventually evaluates to 3, spam[3] is equal to d.\n",
    "\n",
    "I have written the code in the next cell."
   ]
  },
  {
   "cell_type": "code",
   "execution_count": 6,
   "id": "ff6c84f7-9da7-4d72-82f3-2c9dd7b972da",
   "metadata": {},
   "outputs": [
    {
     "name": "stdout",
     "output_type": "stream",
     "text": [
      "d\n"
     ]
    }
   ],
   "source": [
    "spam = ['a','b','c', 'd']\n",
    "\n",
    "a = spam[int(int('3'*2)//11)]\n",
    "print(a)"
   ]
  },
  {
   "cell_type": "markdown",
   "id": "f237bb89-03e2-46de-85c0-391cb939a935",
   "metadata": {},
   "source": [
    "Q4. What is the value of spam[-1]?\n",
    "\n",
    "Ans.4. From reverse the index starts with -1. So the value of spam[-1] is d.\n",
    "\n",
    "I have run the code in the next cell."
   ]
  },
  {
   "cell_type": "code",
   "execution_count": 8,
   "id": "fb3e6640-cdc9-4bdd-8380-6a5665e672ea",
   "metadata": {},
   "outputs": [
    {
     "name": "stdout",
     "output_type": "stream",
     "text": [
      "d\n"
     ]
    }
   ],
   "source": [
    "print(spam[-1])"
   ]
  },
  {
   "cell_type": "markdown",
   "id": "21388483-406f-4f01-9958-e260c6d5f1a9",
   "metadata": {},
   "source": [
    "Q5. What is the value of spam[ :2]?\n",
    "\n",
    "Ans.5. \n",
    "\n",
    "spam[ :2] returns all elements in the list spam from 0 to 2 excluding 2\n",
    "\n",
    "I have run the code in the next cell"
   ]
  },
  {
   "cell_type": "code",
   "execution_count": 7,
   "id": "8d39e018-76c3-4c7b-940a-8fd7cba5be2f",
   "metadata": {},
   "outputs": [
    {
     "name": "stdout",
     "output_type": "stream",
     "text": [
      "['a', 'b']\n"
     ]
    }
   ],
   "source": [
    "print(spam[:2])"
   ]
  },
  {
   "cell_type": "markdown",
   "id": "18edaf31-b669-4709-823e-9dfd7cf1dfe1",
   "metadata": {},
   "source": [
    "Let's pretend bacon has the list [3.14,'cat',11,'cat',True] for the next three question\n",
    "\n",
    "Q6. What is the value of bacon.index('cat')?\n",
    "\n",
    "Ans.6. \n",
    "\n",
    "It will print the index value of cat i.e. 1\n",
    "\n",
    "I have run the code in the below cell."
   ]
  },
  {
   "cell_type": "code",
   "execution_count": 9,
   "id": "23f93709-5c99-4cc2-aedb-6ba64b1a8a09",
   "metadata": {},
   "outputs": [
    {
     "name": "stdout",
     "output_type": "stream",
     "text": [
      "1\n"
     ]
    }
   ],
   "source": [
    "bacon = [3.14,'cat',11,'cat',True]\n",
    "print(bacon.index('cat'))"
   ]
  },
  {
   "cell_type": "markdown",
   "id": "5f397a68-f6fb-4a85-9e6f-f1dc282ac11a",
   "metadata": {},
   "source": [
    "Q7. How does bacon.append(99) change the look of the list value in bacon?\n",
    "\n",
    "Ans.7.\n",
    "\n",
    "The append function adds new element to the end of the list.\n",
    "\n",
    "I have shown it in the next cell."
   ]
  },
  {
   "cell_type": "code",
   "execution_count": 64,
   "id": "3f3fa57c-8a3d-4e3f-af1b-f61795d65af5",
   "metadata": {},
   "outputs": [
    {
     "name": "stdout",
     "output_type": "stream",
     "text": [
      "List before appending [3.14, 'cat', 11, 'cat', True]\n",
      "\n",
      "List after appending [3.14, 'cat', 11, 'cat', True, 99]\n"
     ]
    }
   ],
   "source": [
    "bacon = [3.14,'cat',11,'cat',True]\n",
    "print(f\"List before appending {bacon}\")\n",
    "\n",
    "print()\n",
    "bacon.append(99)\n",
    "print(f\"List after appending {bacon}\")"
   ]
  },
  {
   "cell_type": "markdown",
   "id": "5e84b140-108f-4060-9976-2bb47aba5541",
   "metadata": {},
   "source": [
    "Q8. How does bacon.remove('cat') change the look of the list in bacon?\n",
    "\n",
    "Ans.8.\n",
    "\n",
    "The remove method removes the first occurence of the element in the list.\n",
    "\n",
    "I have shown it in the below cell."
   ]
  },
  {
   "cell_type": "code",
   "execution_count": 35,
   "id": "20e050a7-d8dd-4f01-864d-8853f894fd93",
   "metadata": {},
   "outputs": [
    {
     "name": "stdout",
     "output_type": "stream",
     "text": [
      "List before remove [3.14, 'cat', 11, 'cat', True, 99]\n",
      "\n",
      "List after remove [3.14, 11, 'cat', True, 99]\n"
     ]
    }
   ],
   "source": [
    "bacon = [3.14, 'cat', 11, 'cat', True, 99] #after appending\n",
    "\n",
    "print(f\"List before remove {bacon}\")\n",
    "\n",
    "print()\n",
    "bacon.remove(\"cat\")\n",
    "print(f\"List after remove {bacon}\")"
   ]
  },
  {
   "cell_type": "markdown",
   "id": "b224a8d8-98ab-4062-bcfb-44513218cb7e",
   "metadata": {},
   "source": [
    "Q9.what are the list concatenation and list replication operations?\n",
    "\n",
    "Ans.9. \n",
    "\n",
    "The operator for list concatenation is \"+\" , while the operator for replication is \"*\".\n",
    "\n",
    "I have shown one illustration in the below cell."
   ]
  },
  {
   "cell_type": "code",
   "execution_count": 37,
   "id": "3b13017a-7f60-4c68-90e0-bd8ca23409d3",
   "metadata": {},
   "outputs": [
    {
     "name": "stdout",
     "output_type": "stream",
     "text": [
      "['Physics', 'Chemistry', 'Maths', 'English', 'Hindi', 'Science']\n",
      "\n",
      "['Physics', 'Chemistry', 'Maths', 'Physics', 'Chemistry', 'Maths']\n"
     ]
    }
   ],
   "source": [
    "list_1 = [\"Physics\", \"Chemistry\", \"Maths\"]\n",
    "list_2 = [\"English\", \"Hindi\", \"Science\"]\n",
    "\n",
    "print(list_1 + list_2) # List Concatenation\n",
    "print()\n",
    "print(list_1*2) # List Replication"
   ]
  },
  {
   "cell_type": "markdown",
   "id": "fa08be58-8233-4856-b2a2-e4293c6c294b",
   "metadata": {},
   "source": [
    "Q10.what is the difference between the list method append() and insert()?\n",
    "\n",
    "Ans.10.\n",
    "\n",
    "append() function will add values (one at a time) only to the end of a list while,\n",
    "\n",
    "insert() function can add them (one at a time) anywhere in the list.\n",
    "\n",
    "I have given one example in the below cell."
   ]
  },
  {
   "cell_type": "code",
   "execution_count": 38,
   "id": "d5227aa0-b21d-41b2-acf4-2ba78f1cbc8a",
   "metadata": {},
   "outputs": [
    {
     "name": "stdout",
     "output_type": "stream",
     "text": [
      "[1, 2, 3, 4, 5, 6, 7, 8, 9, 'shreyanshu']\n",
      "\n",
      "[1, 2, 3, 4, 'pachauri', 5, 6, 7, 8, 9, 'shreyanshu']\n"
     ]
    }
   ],
   "source": [
    "list = [1,2,3,4,5,6,7,8,9]\n",
    "\n",
    "list.append(\"shreyanshu\")\n",
    "print(list)\n",
    "\n",
    "print()\n",
    "\n",
    "list.insert(4,'pachauri')\n",
    "print(list)"
   ]
  },
  {
   "cell_type": "markdown",
   "id": "7b366b28-4838-4040-8d27-add6ecc5680e",
   "metadata": {},
   "source": [
    "Q11. What are the two methods for removing items from a list?\n",
    "\n",
    "Ans.11. \n",
    "\n",
    "The pop() function and the remove() function are two ways to remove values from a list\n",
    "\n",
    "I have shown one example of each in the below cell."
   ]
  },
  {
   "cell_type": "code",
   "execution_count": 45,
   "id": "58f1eec4-5330-4847-b0f9-4ade9c663e64",
   "metadata": {},
   "outputs": [
    {
     "name": "stdout",
     "output_type": "stream",
     "text": [
      "Before pop:  ['apple', 'kiwi', 'blackcurrant', 'cantaloupe', 'kiwi', 'elderberry']\n",
      "After pop: ['apple', 'blackcurrant', 'cantaloupe', 'kiwi', 'elderberry'], removed item: kiwi\n",
      "\n",
      "Before remove:  ['apple', 'blackcurrant', 'cantaloupe', 'kiwi', 'elderberry']\n",
      "After remove:  ['apple', 'cantaloupe', 'kiwi', 'elderberry']\n"
     ]
    }
   ],
   "source": [
    "fruits = ['apple', 'kiwi', 'blackcurrant', 'cantaloupe', 'kiwi', 'elderberry']\n",
    "\n",
    "# Removing an item by index using pop()\n",
    "print(\"Before pop: \", fruits)\n",
    "removed = fruits.pop(1)\n",
    "print(f\"After pop: {fruits}, removed item: {removed}\")\n",
    "\n",
    "# Removing an item by value using remove()\n",
    "print(\"\\nBefore remove: \", fruits)\n",
    "fruits.remove('blackcurrant')\n",
    "print(\"After remove: \", fruits)"
   ]
  },
  {
   "cell_type": "markdown",
   "id": "cfbc944a-8d08-4e4f-b79d-b655bf61740c",
   "metadata": {},
   "source": [
    "Q12. Describe how list values and string values are identical.\n",
    "\n",
    "Ans.12\n",
    "\n",
    "1) Both lists and strings can be passed to len() function.\n",
    "2) Both have indexes and slices\n",
    "3) They both be used in for loops, be concatenated or replicated, and be used with the in and not in operators."
   ]
  },
  {
   "cell_type": "markdown",
   "id": "2c08311e-7bd9-4b78-a03b-19a66310ea94",
   "metadata": {},
   "source": [
    "Q13. What's the difference between tuples and lists?\n",
    "\n",
    "Ans.13.\n",
    "\n",
    "a) Lists are mutable, which means their elements can be changed (added, modified, or deleted) after they are created while tuples are immutable, which means their elements cannot be changed (no addition, modification, or deletion) after they are created.\n",
    "\n",
    "b) A list is created by placing items (elements) inside square brackets [], separated by commas while a tuple is created by placing items (elements) inside parentheses (), separated by commas."
   ]
  },
  {
   "cell_type": "markdown",
   "id": "aa8d7769-27ca-40de-b929-553709c1fe10",
   "metadata": {},
   "source": [
    "Q14. How do you type a tuple value that only contains the integer 42?\n",
    "\n",
    "Ans.14.\n",
    "\n",
    "tup1 = (42,)\n",
    "\n",
    "The trailing comma is mandatory. otherwise its considered as a int by python Interpreter\n",
    "\n",
    "I have run the code in the below cell."
   ]
  },
  {
   "cell_type": "code",
   "execution_count": 46,
   "id": "0b3eeaa0-0161-4b37-a6e4-65108fcece87",
   "metadata": {},
   "outputs": [
    {
     "name": "stdout",
     "output_type": "stream",
     "text": [
      "<class 'int'>\n",
      "\n",
      "<class 'tuple'>\n"
     ]
    }
   ],
   "source": [
    "tup1 = (42)\n",
    "\n",
    "tup2 = (42,)\n",
    "\n",
    "print(type(tup1))\n",
    "print()\n",
    "print(type(tup2))"
   ]
  },
  {
   "cell_type": "markdown",
   "id": "3881f5a4-a3b9-4e13-b76f-6d177e730a70",
   "metadata": {},
   "source": [
    "Q15. 15. How do you get a list value's tuple form? How do you get a tuple value's list form?\n",
    "\n",
    "Ans.15.\n",
    "\n",
    "The tuple() and list() functions, respectively are used to convert a list to tuple and tuple to list respectively."
   ]
  },
  {
   "cell_type": "markdown",
   "id": "ab4a588d-3f1b-4181-a95f-3cce4da8c96d",
   "metadata": {},
   "source": [
    "Q16. Variables that \"contain\" list values are not necessarily lists themselves. Instead, what do they contain?\n",
    "\n",
    "Ans.16. \n",
    "\n",
    "Variables do not store list values directly instead they contain references to list values."
   ]
  },
  {
   "cell_type": "markdown",
   "id": "10094b2d-0a7e-48a8-ae58-a30c73dadd9d",
   "metadata": {},
   "source": [
    "Q17. How do you distinguish between copy.copy() and copy.deepcopy()?\n",
    "\n",
    "Ans.17. \n",
    "\n",
    "The copy.copy() function will do a shallow copy of a list, while the copy.deepcopy() function will do a deep copy of a list. i.e only copy.deepcopy() will duplicate any lists inside the list."
   ]
  }
 ],
 "metadata": {
  "kernelspec": {
   "display_name": "Python 3 (ipykernel)",
   "language": "python",
   "name": "python3"
  },
  "language_info": {
   "codemirror_mode": {
    "name": "ipython",
    "version": 3
   },
   "file_extension": ".py",
   "mimetype": "text/x-python",
   "name": "python",
   "nbconvert_exporter": "python",
   "pygments_lexer": "ipython3",
   "version": "3.10.6"
  }
 },
 "nbformat": 4,
 "nbformat_minor": 5
}
