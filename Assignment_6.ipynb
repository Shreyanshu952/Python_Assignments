{
 "cells": [
  {
   "cell_type": "markdown",
   "id": "600edb72-2284-4d0f-866d-178986c8dc2d",
   "metadata": {},
   "source": [
    "Q.1. What are keywords in python? Using the keyword library, print all the python keywords.\n",
    "\n",
    "Ans.1. \n",
    "\n",
    "1) Keywords are the reserved words which we can not use as ordinary words as they have well defined meaning and can be used for that specific purpose only.\n",
    "2) Keywords are IMMUTABLE. IMMUTABLE means their meaning cannot be altered or changed.\n",
    "\n",
    "I have printed keywords in the next cell"
   ]
  },
  {
   "cell_type": "code",
   "execution_count": 6,
   "id": "3c016933-8ccb-477d-ab8b-2e2af7c28432",
   "metadata": {},
   "outputs": [
    {
     "name": "stdout",
     "output_type": "stream",
     "text": [
      "['False', 'None', 'True', 'and', 'as', 'assert', 'async', 'await', 'break', 'class', 'continue', 'def', 'del', 'elif', 'else', 'except', 'finally', 'for', 'from', 'global', 'if', 'import', 'in', 'is', 'lambda', 'nonlocal', 'not', 'or', 'pass', 'raise', 'return', 'try', 'while', 'with', 'yield']\n"
     ]
    }
   ],
   "source": [
    "#pip install keywords\n",
    "import keyword\n",
    "print(keyword.kwlist)"
   ]
  },
  {
   "cell_type": "markdown",
   "id": "4183c3bf-0d67-4c9e-9ae3-770c03409038",
   "metadata": {},
   "source": [
    "Q.2. What are the rules to create variables in python?\n",
    "\n",
    "Ans.2. A Python variable is a name given to a memory location to store data. Variables are created by writing the variable name and assigning it a value using the equals sign (=)."
   ]
  },
  {
   "cell_type": "markdown",
   "id": "90197f89-c847-4527-9542-a38046f30f0e",
   "metadata": {},
   "source": [
    "Q.3. What are the standards and conventions followed for the nomenclature of variables in python to improve code readability and maintainability?\n",
    "\n",
    "Ans.3. \n",
    "\n",
    "1) Keywords cannot be used to create variables.\n",
    "2) Variable names can consists of small letters (a-z), capital letters (A-Z), numeric digits(0-9) and underscore( _ ).\n",
    "3) It can not start with numeric digit (0-9).\n",
    "4) It cannot consits of special characters like !, @, #, $, %, ^, &, *, (, ), space etc.\n",
    "5) Variable names are case-sensitive (tree, Tree and TREE are three different variables)."
   ]
  },
  {
   "cell_type": "markdown",
   "id": "35109495-afb9-418d-922d-00bd83605191",
   "metadata": {},
   "source": [
    "Q.4. What will happen if a keyword is used as a variable name?\n",
    "\n",
    "Ans.4. Since Keywords are the reserved words which we can not use as ordinary words as they have well defined meaning and can be used for that specific purpose only, we can not use them as a variable name.\n",
    "\n",
    "If we do that python will throw error.\n",
    "\n",
    "I have given example in below cell."
   ]
  },
  {
   "cell_type": "code",
   "execution_count": 13,
   "id": "a2f175fa-b970-4036-b5f0-5edf31a7a7b9",
   "metadata": {},
   "outputs": [
    {
     "ename": "SyntaxError",
     "evalue": "invalid syntax (4060735566.py, line 1)",
     "output_type": "error",
     "traceback": [
      "\u001b[0;36m  Cell \u001b[0;32mIn [13], line 1\u001b[0;36m\u001b[0m\n\u001b[0;31m    class = [1, 2, 3, 4]\u001b[0m\n\u001b[0m          ^\u001b[0m\n\u001b[0;31mSyntaxError\u001b[0m\u001b[0;31m:\u001b[0m invalid syntax\n"
     ]
    }
   ],
   "source": [
    "class = [1, 2, 3, 4]\n",
    "\n",
    "print(class)"
   ]
  },
  {
   "cell_type": "markdown",
   "id": "c90ff2ef-9bba-4166-af68-9d560bd4d7fd",
   "metadata": {},
   "source": [
    "Q.5. For what purpose def keyword is used?\n",
    "\n",
    "Ans.5. def keyword is used for declaring user defined functions.\n",
    "\n",
    "Basically we define a function using the def keyword, followed by the function name, parentheses (), and a colon :. Inside the parentheses, we can specify any parameters our function will take."
   ]
  },
  {
   "cell_type": "markdown",
   "id": "70bf3e3b-4ed8-4505-a3b3-f0516d4a6312",
   "metadata": {},
   "source": [
    "Q.6. What is the operation of this special character ‘\\’?\n",
    "\n",
    "Ans.6. ' \\ ' is called line continuation character. We can make statement to extend over multiple lines using this character.\n",
    "\n",
    "I have shown the illustration of this in the next cell."
   ]
  },
  {
   "cell_type": "code",
   "execution_count": 20,
   "id": "c5bacbae-8a2c-4554-92e5-ad1a4a4f18df",
   "metadata": {},
   "outputs": [
    {
     "name": "stdout",
     "output_type": "stream",
     "text": [
      "45\n",
      "45\n"
     ]
    }
   ],
   "source": [
    "a = 1+2+3+4+5+6+7+8+9\n",
    "print(a)              # here i have written a only in one line\n",
    "\n",
    "\n",
    "#if we want to write a in muliple lines, we can do that with ' \\ ' . Output will be the same.\n",
    "\n",
    "a=1+2+3+4+5\\\n",
    "  +6+7+8+9\n",
    "\n",
    "print(a)\n",
    "\n",
    "# as we can see, output is same"
   ]
  },
  {
   "cell_type": "markdown",
   "id": "742c37b3-f6d2-46f0-b778-634ac7c469af",
   "metadata": {},
   "source": [
    "Q.7. Give an example of the following conditions:\n",
    "    \n",
    "(i) Homogeneous list\n",
    "\n",
    "list1 = [1, 2, 3, 4, 5, 6, 7, 8, 9, 10]    #here all are intergers inside the list\n",
    "\n",
    "(ii) Heterogeneous set\n",
    "\n",
    "set1 = {1, \"shreyanshu\", [1, 2, 3], 12.89}  #here set1 contains integer, string, list and float\n",
    "\n",
    "(iii) Homogeneous tuple\n",
    "\n",
    "tuple1 = (\"shreyanshu\", \"ajinkya\", \"jinal\", \"roshni\", \"22\")   #here all are strings inside the tuple"
   ]
  },
  {
   "cell_type": "markdown",
   "id": "44e41b87-201b-4280-bdeb-3b7ff17e99c4",
   "metadata": {},
   "source": [
    "Q.8. Explain the mutable and immutable data types with proper explanation & examples.\n",
    "\n",
    "Ans.8. \n",
    "\n",
    "1) MUTABLE DATA TYPES:\n",
    "\n",
    "a) Mutable means their meaning can be altered or changed.\n",
    "\n",
    "b) We can modify, add, delete the items inside the mutable data types.\n",
    "\n",
    "c) Example of mutable data types are List, Sets, Dictionaries( although keys items can not be changed.)\n",
    "\n",
    "2) IMMUTABLE DATA TYPES:\n",
    "\n",
    "a) Immutable means their meaning can not be altered or changed at any cost once they are declared.\n",
    "\n",
    "b) We can not modify, add, delete the items inside the immutable data types.\n",
    "\n",
    "c) Example of immutable data types are strings and tuples.\n",
    "\n",
    "I have given the example of both the data types in below cell."
   ]
  },
  {
   "cell_type": "code",
   "execution_count": 29,
   "id": "588d7811-aa2b-40f0-b99d-cd5a9a5372de",
   "metadata": {},
   "outputs": [
    {
     "name": "stdout",
     "output_type": "stream",
     "text": [
      "[1, 2, 4, 5, 6]\n",
      "[1, 2, 4, 5, 6, 9]\n"
     ]
    },
    {
     "ename": "AttributeError",
     "evalue": "'tuple' object has no attribute 'remove'",
     "output_type": "error",
     "traceback": [
      "\u001b[0;31m---------------------------------------------------------------------------\u001b[0m",
      "\u001b[0;31mAttributeError\u001b[0m                            Traceback (most recent call last)",
      "Cell \u001b[0;32mIn [29], line 28\u001b[0m\n\u001b[1;32m     24\u001b[0m tuple1 \u001b[38;5;241m=\u001b[39m (\u001b[38;5;241m1\u001b[39m,\u001b[38;5;241m2\u001b[39m,\u001b[38;5;241m3\u001b[39m,\u001b[38;5;241m4\u001b[39m,\u001b[38;5;241m5\u001b[39m,\u001b[38;5;241m6\u001b[39m)\n\u001b[1;32m     26\u001b[0m \u001b[38;5;66;03m#lets try to remove item 3 \u001b[39;00m\n\u001b[0;32m---> 28\u001b[0m \u001b[43mtuple1\u001b[49m\u001b[38;5;241;43m.\u001b[39;49m\u001b[43mremove\u001b[49m(\u001b[38;5;241m3\u001b[39m)\n\u001b[1;32m     29\u001b[0m \u001b[38;5;28mprint\u001b[39m(tuple1)\n",
      "\u001b[0;31mAttributeError\u001b[0m: 'tuple' object has no attribute 'remove'"
     ]
    }
   ],
   "source": [
    "# Mutable data types \n",
    "# Let's take an example of list\n",
    "\n",
    "list1 = [1,2,3,4,5,6]\n",
    "\n",
    "#removing item 3 from the list\n",
    "\n",
    "list1.remove(3)\n",
    "print(list1)      \n",
    "\n",
    "#new output [1,2,4,5,6]\n",
    "\n",
    "#adding items to the list\n",
    "\n",
    "list1.append(9)\n",
    "print(list1)\n",
    "\n",
    "\n",
    "\n",
    "\n",
    "# Immutable data types \n",
    "# Let's take an example of tuple\n",
    "\n",
    "tuple1 = (1,2,3,4,5,6)\n",
    "\n",
    "#lets try to remove item 3 \n",
    "\n",
    "tuple1.remove(3)\n",
    "print(tuple1)\n",
    "\n",
    "#as the output says 'tuple' object has no attribute 'remove' , which means tuple can not be modified once declared."
   ]
  },
  {
   "cell_type": "markdown",
   "id": "ce1afda0-992d-43f9-a7bc-c6011b674058",
   "metadata": {},
   "source": [
    "Q.9. Write a code to create the given structure using only for loop.\n",
    "\n",
    "\n",
    "        *\n",
    "       ***\n",
    "      *****\n",
    "     *******\n",
    "    *********\n",
    "    \n",
    "Ans.9. I have written the code in the below cell"
   ]
  },
  {
   "cell_type": "code",
   "execution_count": 36,
   "id": "9a716789-6187-4b81-800f-60308c4c35a5",
   "metadata": {},
   "outputs": [
    {
     "name": "stdout",
     "output_type": "stream",
     "text": [
      "        \n",
      "      * \n",
      "    * * * \n",
      "  * * * * * \n",
      "* * * * * * * \n"
     ]
    }
   ],
   "source": [
    "for i in range(0,5):\n",
    "    for j in range(0,4-i):\n",
    "        print(\" \", end=\" \")\n",
    "    for k in range(0,2*i-1):\n",
    "        print(\"*\", end=\" \")\n",
    "    print()"
   ]
  },
  {
   "cell_type": "markdown",
   "id": "2d2ab832-4b1c-4e0d-809f-019e4036dc74",
   "metadata": {},
   "source": [
    "Q.10. Write a code to create the given structure using while loop.\n",
    "\n",
    "    |||||||||\n",
    "   \n",
    "     |||||||\n",
    "    \n",
    "      |||||\n",
    "     \n",
    "       |||\n",
    "      \n",
    "        |\n",
    "       \n",
    "Ans.10. I have written the code in the below cell"
   ]
  },
  {
   "cell_type": "code",
   "execution_count": 38,
   "id": "69d7e9c9-5345-472c-9e32-d12c5b98c0b0",
   "metadata": {},
   "outputs": [
    {
     "name": "stdout",
     "output_type": "stream",
     "text": [
      "| | | | | | | | | \n",
      "  | | | | | | | \n",
      "    | | | | | \n",
      "      | | | \n",
      "        | \n"
     ]
    }
   ],
   "source": [
    "i=0\n",
    "while i<=4:\n",
    "    j=0\n",
    "    while j<i:\n",
    "        print(\" \", end=\" \")\n",
    "        j+=1\n",
    "    k=0\n",
    "    while k<(9-2*i):\n",
    "        print(\"|\", end=\" \")\n",
    "        k+=1\n",
    "    i+=1\n",
    "    print()"
   ]
  }
 ],
 "metadata": {
  "kernelspec": {
   "display_name": "Python 3 (ipykernel)",
   "language": "python",
   "name": "python3"
  },
  "language_info": {
   "codemirror_mode": {
    "name": "ipython",
    "version": 3
   },
   "file_extension": ".py",
   "mimetype": "text/x-python",
   "name": "python",
   "nbconvert_exporter": "python",
   "pygments_lexer": "ipython3",
   "version": "3.10.6"
  }
 },
 "nbformat": 4,
 "nbformat_minor": 5
}
