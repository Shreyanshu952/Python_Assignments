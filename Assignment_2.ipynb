{
 "cells": [
  {
   "attachments": {},
   "cell_type": "markdown",
   "id": "7910392c-185d-4ded-8a8e-c2a9c754e1dc",
   "metadata": {},
   "source": [
    "Q1.What are the two values of the Boolean data type? How do you write them?\n",
    "\n",
    "Ans.1. \n",
    "\n",
    "The two values of boolean data type are \"TRUE\" and \"FALSE\".\n",
    "\n",
    "I have written them in the next cell."
   ]
  },
  {
   "cell_type": "code",
   "execution_count": 10,
   "id": "ad92bfa4-da51-4552-bd43-05c25a204276",
   "metadata": {},
   "outputs": [
    {
     "name": "stdout",
     "output_type": "stream",
     "text": [
      "True <class 'bool'>\n",
      "False <class 'bool'>\n"
     ]
    }
   ],
   "source": [
    "bool1 = True\n",
    "bool2 = False\n",
    "print(bool1, type(bool1))\n",
    "print(bool2, type(bool2))"
   ]
  },
  {
   "attachments": {},
   "cell_type": "markdown",
   "id": "83fcccb9-ce70-4bbb-99ed-c14a41182739",
   "metadata": {},
   "source": [
    "Q2. What are the three different types of Boolean operators?\n",
    "\n",
    "Ans.2. The three boolean operators are:\n",
    "\n",
    "a) boolean and\n",
    "\n",
    "b) boolean or\n",
    "\n",
    "c) boolean not\n",
    "\n",
    "I have illustarted them with examples in below cell with answer 3."
   ]
  },
  {
   "attachments": {},
   "cell_type": "markdown",
   "id": "fde08f49-5a4d-456d-9d38-33a6fe61c1bf",
   "metadata": {},
   "source": [
    "Q3. Make a list of each Boolean operator&#39;s truth tables (i.e. every possible combination of Boolean values for the operator and what it evaluate ).\n",
    "\n",
    "Ans.3 . \n",
    "\n",
    "In the below cell"
   ]
  },
  {
   "cell_type": "code",
   "execution_count": 11,
   "id": "31f332ff-4b62-4781-a405-30125a4774e9",
   "metadata": {},
   "outputs": [
    {
     "name": "stdout",
     "output_type": "stream",
     "text": [
      "True\n",
      "False\n",
      "False\n",
      "False\n",
      "\n",
      "True\n",
      "True\n",
      "True\n",
      "False\n",
      "\n",
      "False\n",
      "True\n"
     ]
    }
   ],
   "source": [
    "bool1=10\n",
    "bool2=20\n",
    "\n",
    "# Example of boolean and\n",
    "print(bool1>5 and bool2>10)  #(True + True = True)\n",
    "print(bool1>5 and bool2>30)  #(True + False = False)\n",
    "print(bool1>15 and bool2>10)  #(False + True = False)\n",
    "print(bool1>15 and bool2>30)  #(False + False = False)\n",
    "\n",
    "print()\n",
    "\n",
    "# Example of boolean or\n",
    "print(bool1>20 or bool2>10) #(false + True = True)\n",
    "print(bool1>5 or bool2>10) #(true + True = True)\n",
    "print(bool1>5 or bool2>30) #(true + false = True)\n",
    "print(bool1>20 or bool2>30) #(false + false = false)\n",
    "\n",
    "print()\n",
    "\n",
    "# Example of boolean not\n",
    "print(not(bool1>5))  #(opposite of True is False)\n",
    "print(not(bool1>30))  #(opposite of False is True)"
   ]
  },
  {
   "attachments": {},
   "cell_type": "markdown",
   "id": "01eb4c38-f75b-4ac1-a0bb-01d3718158ec",
   "metadata": {},
   "source": [
    "Q4. What are the values of the following expressions ?\n",
    "\n",
    "(5 > 4) and (3 == 5)\n",
    "\n",
    "not (5 > 4)\n",
    "\n",
    "(5 > 4) or (3 == 5)\n",
    "\n",
    "not ((5 > 4) or (3 == 5))\n",
    "\n",
    "(True and True) and (True == False)\n",
    "\n",
    "(not False) or (not True)\n",
    "\n",
    "Ans.4. \n",
    "\n",
    "In the below cell"
   ]
  },
  {
   "cell_type": "code",
   "execution_count": 12,
   "id": "2153ada8-9efa-44e5-8f92-827557e7d57e",
   "metadata": {},
   "outputs": [
    {
     "name": "stdout",
     "output_type": "stream",
     "text": [
      "False\n",
      "False\n",
      "True\n",
      "False\n",
      "False\n",
      "True\n"
     ]
    }
   ],
   "source": [
    "print((5>4)and(3==5)) # False\n",
    "print(not(5>4)) # False\n",
    "print((5>4)or(3==5)) # True\n",
    "print(not((5>4)or(3==5))) # False\n",
    "print((True and True)and(True==False)) # False\n",
    "print((not False)or(not True)) # True"
   ]
  },
  {
   "attachments": {},
   "cell_type": "markdown",
   "id": "3b52545f-6b60-491b-b26f-2f9db2072b98",
   "metadata": {},
   "source": [
    "Q5. What are the six comparison operators? \n",
    "\n",
    "Ans.5.\n",
    "\n",
    "The six comparision operators are:\n",
    "\n",
    "== (Equal to) , != (Not equal to) , < (less than) , > (greater than) , <= (less than and equal to) , >= (greater than and equal to)\n"
   ]
  },
  {
   "attachments": {},
   "cell_type": "markdown",
   "id": "9d2011a2-2207-467a-848b-cb177ce1e542",
   "metadata": {},
   "source": [
    "Q6.How do you tell the difference between the equal to and assignment operators? Describe a condition and when you would use one.\n",
    "\n",
    "Ans.3. \n",
    "\n",
    "== is the equal to operator that compares two values and evaluates to a Boolean, while \n",
    "\n",
    "= is the assignment operator that stores a value or data in a variable\n",
    "\n",
    "I have illutrated one example in a below cell."
   ]
  },
  {
   "cell_type": "code",
   "execution_count": 13,
   "id": "7f4e0943-9262-4959-9150-3697b055a693",
   "metadata": {},
   "outputs": [
    {
     "name": "stdout",
     "output_type": "stream",
     "text": [
      "True\n"
     ]
    }
   ],
   "source": [
    "var=30 # Assigning operator that stores 3 value in a variable a\n",
    "if var==30:#comparing values of a varible value and 3\n",
    "    print(var==30)  "
   ]
  },
  {
   "attachments": {},
   "cell_type": "markdown",
   "id": "683bc039-b855-4087-86b2-f3f612175ffb",
   "metadata": {},
   "source": [
    "Q7. Identify the three blocks in this code:\n",
    "\n",
    "spam = 0\n",
    "\n",
    "if spam == 10:\n",
    "\n",
    "print('eggs')\n",
    "\n",
    "if spam > 5:\n",
    "\n",
    "print('bacon')\n",
    "\n",
    "else:\n",
    "\n",
    "print('ham')\n",
    "\n",
    "print('spam')\n",
    "\n",
    "print('spam')\n",
    "\n",
    "Ans.7. \n",
    "\n",
    "In Python, code block refers to a collection of code that is in the same block or indent."
   ]
  },
  {
   "cell_type": "code",
   "execution_count": 14,
   "id": "87864337-e851-4d96-adc6-1aa22cc68b0d",
   "metadata": {},
   "outputs": [
    {
     "name": "stdout",
     "output_type": "stream",
     "text": [
      "ham\n",
      "spam\n",
      "spam\n"
     ]
    }
   ],
   "source": [
    "spam = 0  \n",
    "if spam == 10:  \n",
    "    print('eggs')  # block no. 1\n",
    "if spam > 5:  \n",
    "    print('bacon')  # block no. 2\n",
    "else:  \n",
    "    print('ham')  # block no. 3\n",
    "print('spam')  \n",
    "print('spam')"
   ]
  },
  {
   "attachments": {},
   "cell_type": "markdown",
   "id": "21b329c1-fe96-40b9-813d-61d4d5ee0d6f",
   "metadata": {},
   "source": [
    "Q8. Write code that prints Hello if 1 is stored in spam, prints Howdy if 2 is stored in spam, and prints Greetings! if anything else is stored in spam.\n",
    "\n",
    "Ans.8. I have written the code in the next cell"
   ]
  },
  {
   "cell_type": "code",
   "execution_count": 5,
   "id": "72ff8fb3-23fb-4d2a-b74a-abf99fb8d967",
   "metadata": {},
   "outputs": [
    {
     "name": "stdout",
     "output_type": "stream",
     "text": [
      "Greetings!\n"
     ]
    }
   ],
   "source": [
    "spam = 3\n",
    "\n",
    "if spam == 1:\n",
    "    print(\"Hello\")\n",
    "elif spam == 2:\n",
    "    print(\"Howdy\")\n",
    "else:\n",
    "    print(\"Greetings!\")"
   ]
  },
  {
   "attachments": {},
   "cell_type": "markdown",
   "id": "b2883bb4-086a-4bd8-a67e-900e6fc35366",
   "metadata": {},
   "source": [
    "Q9.If your programme is stuck in an endless loop, what keys you’ll press?\n",
    "\n",
    "Ans.9. \n",
    "\n",
    "I will Press Ctrl-C to stop a program stuck in an infinite loop"
   ]
  },
  {
   "attachments": {},
   "cell_type": "markdown",
   "id": "5ff2e7d1-f41b-4c03-9113-0dabda046399",
   "metadata": {},
   "source": [
    "Q10. How can you tell the difference between break and continue?\n",
    "\n",
    "Ans.10.\n",
    "\n",
    "1) ‘break’ eliminates the execution of remaining iteration of loop while 'continue' will terminate only the current iteration of loop.\n",
    "2) ‘break’ will resume control of program to the end of loop enclosing that ‘break’ while The ‘continue’ will resume the control of the program to next iteration of that loop enclosing ‘continue'.\n",
    "3) The ‘break ‘stop the continuation of the loop while ‘continue’ does not stop the continuation of loop and it stops the current."
   ]
  },
  {
   "attachments": {},
   "cell_type": "markdown",
   "id": "6231df58-a205-4c5d-93a1-9f9a0544c3cd",
   "metadata": {},
   "source": [
    "Q11. In a for loop, what is the difference between range(10), range(0, 10), and range(0, 10, 1)?\n",
    "\n",
    "Ans.11.\n",
    "\n",
    "The range(10) call range from 0 to 9 (but not include 10)\n",
    "\n",
    "The range (0,10) explicitly tells the loop to start at 0\n",
    "\n",
    "The range(0,10,1) explicitly tells the loop to increase the variable by 1 on each iteration"
   ]
  },
  {
   "attachments": {},
   "cell_type": "markdown",
   "id": "18a5f1b2-40fd-42cc-9c72-eb1e699386a4",
   "metadata": {},
   "source": [
    "Q12. Write a short program that prints the numbers 1 to 10 using a for loop. Then write an equivalent program that prints the numbers 1 to 10 using a while loop.\n",
    "\n",
    "Ans.12.\n",
    "\n",
    "I have written the code in the next cell"
   ]
  },
  {
   "cell_type": "code",
   "execution_count": 9,
   "id": "f26b327f-7c12-4107-8546-0525fef2b97b",
   "metadata": {},
   "outputs": [
    {
     "name": "stdout",
     "output_type": "stream",
     "text": [
      "1 2 3 4 5 6 7 8 9 10 \n",
      "1 2 3 4 5 6 7 8 9 10 "
     ]
    }
   ],
   "source": [
    "#USING FOR LOOP\n",
    "\n",
    "for a in range(1,11,1):\n",
    "    print(a, end=\" \")\n",
    "    \n",
    "print()\n",
    "\n",
    "i=1\n",
    "while i<=10:\n",
    "    print(i, end=\" \")\n",
    "    i+=1"
   ]
  },
  {
   "attachments": {},
   "cell_type": "markdown",
   "id": "4affc56f-b1ac-42df-8ce9-47b651e64e04",
   "metadata": {},
   "source": [
    "Q13. If you had a function named bacon() inside a module named spam, how would you call it after importing spam?\n",
    "\n",
    "Ans.13.\n",
    "\n",
    "import spam\n",
    "\n",
    "a = spam.bacon()"
   ]
  }
 ],
 "metadata": {
  "kernelspec": {
   "display_name": "Python 3 (ipykernel)",
   "language": "python",
   "name": "python3"
  },
  "language_info": {
   "codemirror_mode": {
    "name": "ipython",
    "version": 3
   },
   "file_extension": ".py",
   "mimetype": "text/x-python",
   "name": "python",
   "nbconvert_exporter": "python",
   "pygments_lexer": "ipython3",
   "version": "3.10.6"
  }
 },
 "nbformat": 4,
 "nbformat_minor": 5
}
