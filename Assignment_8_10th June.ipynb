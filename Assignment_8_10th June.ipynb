{
 "cells": [
  {
   "cell_type": "markdown",
   "id": "187595a8-90e7-4a69-8388-b2fa0d903a6f",
   "metadata": {},
   "source": [
    "Q1. In Python, what is the difference between a built-in function and a user-defined function? Provide an example of each.\n",
    "\n",
    "Ans.1. \n",
    "\n",
    "1) Built-in function are already defined in Python and can be used directly by calling it. Importing a package or module might be necessary.\n",
    "\n",
    "An example of a built-in function is the len() function, which is used to determine the length of an object. \n",
    "\n",
    "For instance, len(\"Hello World\") would return 11. I will have the same code in the below cell..\n",
    "\n",
    "2) User defined function, the word itself says it has to be defined by the user themselves for specific task.\n",
    "\n",
    "Example of user defined function is shown in the below cell."
   ]
  },
  {
   "cell_type": "code",
   "execution_count": 4,
   "id": "6a5f797c-5f04-491a-b9de-cacf5c2a5eb9",
   "metadata": {},
   "outputs": [
    {
     "data": {
      "text/plain": [
       "11"
      ]
     },
     "execution_count": 4,
     "metadata": {},
     "output_type": "execute_result"
    }
   ],
   "source": [
    "# using len() a built-in function\n",
    "len(\"Hello World\")"
   ]
  },
  {
   "cell_type": "code",
   "execution_count": 6,
   "id": "3ffda6c1-f2d0-459c-afe3-9769811a5868",
   "metadata": {},
   "outputs": [
    {
     "data": {
      "text/plain": [
       "6"
      ]
     },
     "execution_count": 6,
     "metadata": {},
     "output_type": "execute_result"
    }
   ],
   "source": [
    "# user defined function to multiply two numbers\n",
    "def multiply_two_numbers(x, y):\n",
    "    return x * y\n",
    "\n",
    "multiply_two_numbers(2, 3)"
   ]
  },
  {
   "cell_type": "markdown",
   "id": "9f2ee53b-03b2-4e23-a016-017e118832bf",
   "metadata": {},
   "source": [
    "Q2. How can you pass arguments to a function in Python? Explain the difference between positional arguments and keyword arguments.\n",
    "\n",
    "Ans.2.\n",
    "\n",
    "In Python, we can pass arguments to a function by including them inside the parentheses when calling the function.\n",
    "\n",
    "I have shown the example of how to do it in the below cell."
   ]
  },
  {
   "cell_type": "code",
   "execution_count": 5,
   "id": "195a9e86-227c-448a-932c-eb0c7fcc3226",
   "metadata": {},
   "outputs": [
    {
     "data": {
      "text/plain": [
       "6"
      ]
     },
     "execution_count": 5,
     "metadata": {},
     "output_type": "execute_result"
    }
   ],
   "source": [
    "def multiply_two_numbers(x, y):\n",
    "    return x * y\n",
    "\n",
    "multiply_two_numbers(2, 3)"
   ]
  },
  {
   "cell_type": "markdown",
   "id": "cd07e835-5c4b-49dc-9728-b22cea96ba62",
   "metadata": {},
   "source": [
    "1) Positional arguments are passed based on their position or order in the function's parameter list. That is the first argument passed will be assigned to the first parameter in the function, the second argument passed will be assigned to the second parameter, and so on.\n",
    "\n",
    "For instance in the above example of multiplication, 2 is assigned to x and 3 is assigned to y.\n",
    "\n",
    "2) Keyword arguments, on the other hand, are passed by explicitly specifying the parameter name followed by its value. This allows one to pass arguments out of order or skip optional parameters.\n",
    "\n",
    "For example - I have shown it in below cell."
   ]
  },
  {
   "cell_type": "code",
   "execution_count": 8,
   "id": "b213d685-b0e0-4d02-aef1-79e0b0fcb385",
   "metadata": {},
   "outputs": [
    {
     "name": "stdout",
     "output_type": "stream",
     "text": [
      "20\n",
      "90\n"
     ]
    }
   ],
   "source": [
    "def mul_numbers(x, y=15):\n",
    "    return x * y\n",
    "\n",
    "# Keyword argument\n",
    "print(mul_numbers(y = 4, x = 5)) # output -> 20\n",
    "\n",
    "'''\n",
    "Here, while calling argument is explicitly specified, so the order does not matter. \n",
    "`x` will be assigned `5` and `y` will be assigned `4`.\n",
    "'''\n",
    "\n",
    "# passing nothing for y\n",
    "print(mul_numbers(6)) # output -> 90\n",
    "\n",
    "# Also, default value for `y = 15`, if nothing is passed `15` will be considered for `y`."
   ]
  },
  {
   "cell_type": "markdown",
   "id": "0b62b31e-18ed-4dd0-b9b4-ea29ecb9bbb4",
   "metadata": {},
   "source": [
    "Q3. What is the purpose of the return statement in a function? Can a function have multiple return statements? Explain with an example.\n",
    "\n",
    "Ans.3.\n",
    "\n",
    "The return statement in a function is used to return a value or values from the function to the caller. When the return statement is executed, the function terminates and control is passed back to the caller with the value or values that were returned.\n",
    "\n",
    "Yes, a function can have multiple return statements.\n",
    "\n",
    "I have shown the example in the below cell."
   ]
  },
  {
   "cell_type": "code",
   "execution_count": 12,
   "id": "fc86d11b-75b7-4020-8bdf-062f7d43b198",
   "metadata": {},
   "outputs": [
    {
     "name": "stdin",
     "output_type": "stream",
     "text": [
      "Enter your score:  75\n"
     ]
    },
    {
     "name": "stdout",
     "output_type": "stream",
     "text": [
      "C\n"
     ]
    }
   ],
   "source": [
    "score = int(input(\"Enter your score: \"))\n",
    "\n",
    "def get_grade(score):\n",
    "    if score >= 90:\n",
    "        return \"A\"\n",
    "    elif score >= 80:\n",
    "        return \"B\"\n",
    "    elif score >= 70:\n",
    "        return \"C\"\n",
    "    elif score>=60:\n",
    "        return \"D\"\n",
    "    elif score>=50:\n",
    "        return \"E\"\n",
    "    else:\n",
    "        return \"F\"\n",
    "\n",
    "print(get_grade(score))\n",
    "\n",
    "\n",
    "# This function takes a numerical score as input and returns a letter grade based on the score. \n",
    "# It has multiple return statements, but only one of them will be executed depending on the value of the score parameter. \n",
    "# If score is greater than or equal to 90, \"A\" will be returned. If it's between 80 and 89, \"B\" will be returned, and so on. \n",
    "# If none of the conditions are met, \"F\" will be returned."
   ]
  },
  {
   "cell_type": "markdown",
   "id": "068e8a53-1037-42e3-b5b5-210762dd476f",
   "metadata": {},
   "source": [
    "Q4. What are lambda functions in Python? How are they different from regular functions? Provide an example where a lambda function can be useful.\n",
    "\n",
    "Ans.4. \n",
    "\n",
    "Lambda functions in Python are small, anonymous functions that can be defined inline and used in the same way as regular functions. They are called anonymous because they do not have a name like a regular function.\n",
    "\n",
    "Lambda functions are different from regular functions in that they are defined using a single expression rather than a block of statements. They are typically used when you need a simple function for a short period of time and don't want to define a named function.\n",
    "\n",
    "An example where lambda function is useful is in below cell."
   ]
  },
  {
   "cell_type": "code",
   "execution_count": 13,
   "id": "5dea70cf-5070-4882-983c-25dfab177cbe",
   "metadata": {},
   "outputs": [
    {
     "name": "stdout",
     "output_type": "stream",
     "text": [
      "{'Phone_name': 'MI', 'Price': 15000}\n",
      "{'Phone_name': 'Realme', 'Price': 20000}\n",
      "{'Phone_name': 'Google pixel', 'Price': 25000}\n",
      "{'Phone_name': 'One plus', 'Price': 30000}\n",
      "{'Phone_name': 'Samsung', 'Price': 40000}\n",
      "{'Phone_name': 'I-Phone', 'Price': 140000}\n"
     ]
    }
   ],
   "source": [
    "# A list of dictionaries is created, where each dictionary represents a product. \n",
    "# Each product has two properties: 'name' and 'price'.\n",
    "# We have to sort the list in the increasing order of their prices.\n",
    "\n",
    "list1 = [{\"Phone_name\" : \"Samsung\", \"Price\" : 40000},\n",
    "         {\"Phone_name\" : \"MI\", \"Price\" : 15000},\n",
    "         {\"Phone_name\" : \"Realme\", \"Price\" : 20000},\n",
    "         {\"Phone_name\" : \"I-Phone\", \"Price\" : 140000},\n",
    "         {\"Phone_name\" : \"One plus\", \"Price\" : 30000},\n",
    "         {\"Phone_name\" : \"Google pixel\", \"Price\" : 25000}]\n",
    "\n",
    "sorted_list = sorted(list1, key = lambda x: x[\"Price\"])\n",
    "\n",
    "for i in sorted_list:\n",
    "    print(i)"
   ]
  },
  {
   "cell_type": "markdown",
   "id": "b1b53127-9e53-4287-bc51-4c157cb0bebf",
   "metadata": {},
   "source": [
    "Q5. How does the concept of \"scope\" apply to functions in Python? Explain the difference between local scope and global scope.\n",
    "\n",
    "Ans.5. \n",
    "\n",
    "1) Scope refers to the region of code where a variable can be accessed.\n",
    "2) A variable defined inside a function has local scope and can only be accessed within that function.\n",
    "3) A variable defined outside of any function has global scope and can be accessed from anywhere in the program.\n",
    "\n",
    "An Example of each is shown in the below cell."
   ]
  },
  {
   "cell_type": "code",
   "execution_count": 14,
   "id": "94ce8b44-aef1-407c-bff2-83d4249e4ea1",
   "metadata": {},
   "outputs": [
    {
     "name": "stdout",
     "output_type": "stream",
     "text": [
      "Inside function: scope = 10\n"
     ]
    }
   ],
   "source": [
    "# local scope\n",
    "\n",
    "def my_function():\n",
    "    scope = 10\n",
    "    print(\"Inside function: scope =\", scope)\n",
    "\n",
    "my_function()"
   ]
  },
  {
   "cell_type": "code",
   "execution_count": null,
   "id": "c4713db2-0c27-4409-8847-69f3af8b3961",
   "metadata": {},
   "outputs": [
    {
     "name": "stdout",
     "output_type": "stream",
     "text": [
      "Inside function: scope = 10\n"
     ]
    }
   ],
   "source": [
    "# global scope\n",
    "scope = 10\n",
    "\n",
    "def my_function():\n",
    "    scope = 5        # this will take precedence over the global variable scope = 10\n",
    "    print(\"Inside function: scope =\", scope)\n",
    "\n",
    "my_function()\n",
    "print(\"Outside function: scope =\", scope)"
   ]
  },
  {
   "cell_type": "markdown",
   "id": "f71c5625-9740-427c-9f37-14efcd3bac7a",
   "metadata": {},
   "source": [
    "Q6. How can you use the \"return\" statement in a Python function to return multiple values?\n",
    "\n",
    "Ans.6.\n",
    "\n",
    "I have shown in below cell."
   ]
  },
  {
   "cell_type": "code",
   "execution_count": 3,
   "id": "844e029c-d94d-4811-9ebc-694c3cf83c56",
   "metadata": {},
   "outputs": [
    {
     "name": "stdin",
     "output_type": "stream",
     "text": [
      "Enter the name of the candidate:  Shreyanshu Pachauri\n",
      "Enter his/ her marks:  95.2\n"
     ]
    },
    {
     "data": {
      "text/plain": [
       "'Shreyanshu Pachauri got 95.2 percentage in class 12'"
      ]
     },
     "execution_count": 3,
     "metadata": {},
     "output_type": "execute_result"
    }
   ],
   "source": [
    "name = input(\"Enter the name of the candidate: \")\n",
    "marks = float(input(\"Enter his/ her marks: \"))\n",
    "\n",
    "def get_name_marks(name, marks):\n",
    "    \n",
    "    return (f\"{name} got {marks} percentage in class 12\")\n",
    "\n",
    "get_name_marks(name, marks)"
   ]
  },
  {
   "cell_type": "markdown",
   "id": "8ea30bf2-8bdb-49cd-89e4-c4ed540b16a7",
   "metadata": {},
   "source": [
    "Q7.  What is the difference between the \"pass by value\" and \"pass by reference\" concepts when it comes to function arguments in Python?\n",
    "\n",
    "Ans.7.\n",
    "\n",
    "1) In Python, all arguments are passed by reference. This means that a reference to the argument's memory location is passed to the function. Any modifications made to the argument inside the function will affect the original object outside the function as well.\n",
    "\n",
    "2) Pass by value means that a copy of the argument's value is passed to the function. This is different from pass by reference, as any modifications made inside the function will not affect the original object outside the function. However, pass by value is not applicable in Python."
   ]
  },
  {
   "cell_type": "markdown",
   "id": "d1b1e1e3-767a-4fe5-be95-5d1bf694ffb6",
   "metadata": {},
   "source": [
    "Q8. Create a function that can intake integer or decimal value and do following operations:\n",
    "\n",
    "a. Logarithmic function (log x)\n",
    "\n",
    "b. Exponential function (exp(x))\n",
    "\n",
    "c. Power function with base 2 (2^x)\n",
    "\n",
    "d. Square root\n",
    "\n",
    "Ans.8.\n",
    "\n",
    "I have shown in the below cell."
   ]
  },
  {
   "cell_type": "code",
   "execution_count": 29,
   "id": "ddd42526-dc82-47be-8ede-744b0945734d",
   "metadata": {},
   "outputs": [
    {
     "name": "stdin",
     "output_type": "stream",
     "text": [
      "Enter the number:  10\n"
     ]
    },
    {
     "name": "stdout",
     "output_type": "stream",
     "text": [
      "log value of 10 is 2.302585092994046\n",
      "\n"
     ]
    },
    {
     "name": "stdin",
     "output_type": "stream",
     "text": [
      "Enter the number:  5\n"
     ]
    },
    {
     "name": "stdout",
     "output_type": "stream",
     "text": [
      "exponential value of 5 is 148.4131591025766\n",
      "\n"
     ]
    },
    {
     "name": "stdin",
     "output_type": "stream",
     "text": [
      "Enter the number:  5\n"
     ]
    },
    {
     "name": "stdout",
     "output_type": "stream",
     "text": [
      "2 raised to the power with value 5 is 32.0\n",
      "\n"
     ]
    },
    {
     "name": "stdin",
     "output_type": "stream",
     "text": [
      "Enter the number:  100\n"
     ]
    },
    {
     "name": "stdout",
     "output_type": "stream",
     "text": [
      "square root of 100 is 10.0\n"
     ]
    }
   ],
   "source": [
    "# Logarithmic function (log x)\n",
    "\n",
    "from math import log\n",
    "\n",
    "num1 = int(input(\"Enter the number: \"))\n",
    "result1 = log(num1)\n",
    "\n",
    "print(f\"log value of {num1} is {result1}\")\n",
    "\n",
    "print()\n",
    "\n",
    "# Exponential function (exp(x))\n",
    "\n",
    "from math import exp\n",
    "\n",
    "num2 = int(input(\"Enter the number: \"))\n",
    "result2 = exp(num2)\n",
    "\n",
    "print(f\"exponential value of {num2} is {result2}\")\n",
    "\n",
    "print()\n",
    "\n",
    "# Power function with base 2 (2^x)\n",
    "\n",
    "from math import pow\n",
    "\n",
    "num3 = int(input(\"Enter the number: \"))\n",
    "result3 = pow(2, num3)\n",
    "\n",
    "print(f\"2 raised to the power with value {num3} is {result3}\")\n",
    "\n",
    "print()\n",
    "\n",
    "# Square root\n",
    "\n",
    "from math import sqrt\n",
    "\n",
    "num4 = int(input(\"Enter the number: \"))\n",
    "result4 = sqrt(num4)\n",
    "\n",
    "print(f\"square root of {num4} is {result4}\")"
   ]
  },
  {
   "cell_type": "markdown",
   "id": "0cdda2b2-df61-4ddd-b880-3cf1f311db08",
   "metadata": {},
   "source": [
    "Q9. Create a function that takes a full name as an argument and returns first name and last name.\n",
    "\n",
    "Ans.9.\n",
    "\n",
    "I have shown it in below cell"
   ]
  },
  {
   "cell_type": "code",
   "execution_count": 17,
   "id": "1acbded2-78b1-46bb-83e6-faf7b9e22f04",
   "metadata": {},
   "outputs": [
    {
     "name": "stdin",
     "output_type": "stream",
     "text": [
      "Enter your name Nishant Sahoo\n"
     ]
    },
    {
     "name": "stdout",
     "output_type": "stream",
     "text": [
      "First name is Nishant\n",
      "Last name is Sahoo\n"
     ]
    }
   ],
   "source": [
    "fullname = input(\"Enter your name\")\n",
    "\n",
    "def split_fullname(fullname):\n",
    "    \n",
    "    split_name = fullname.split(\" \")\n",
    "    \n",
    "    first_name = split_name[0]\n",
    "    last_name = split_name[1]\n",
    "    \n",
    "    print(f\"First name is {first_name}\")\n",
    "    print(f\"Last name is {last_name}\")\n",
    "    \n",
    "split_fullname(fullname)"
   ]
  }
 ],
 "metadata": {
  "kernelspec": {
   "display_name": "Python 3 (ipykernel)",
   "language": "python",
   "name": "python3"
  },
  "language_info": {
   "codemirror_mode": {
    "name": "ipython",
    "version": 3
   },
   "file_extension": ".py",
   "mimetype": "text/x-python",
   "name": "python",
   "nbconvert_exporter": "python",
   "pygments_lexer": "ipython3",
   "version": "3.10.6"
  }
 },
 "nbformat": 4,
 "nbformat_minor": 5
}
