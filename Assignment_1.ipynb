{
 "cells": [
  {
   "attachments": {},
   "cell_type": "markdown",
   "id": "bd885642-005a-4af3-bc1f-de332b07ece6",
   "metadata": {},
   "source": [
    "Question 1 - In the below elements which of them are values or an expression? eg:- values can be\n",
    "integer or string and expressions will be mathematical operators.\n",
    "\n",
    "Answer -    *       -  Expression\n",
    "            'hello' -  Value (string)\n",
    "            -87.8   -  Value (float)\n",
    "            -       -  Expression\n",
    "            /       -  Expression\n",
    "            +       -  Expression\n",
    "            6       -  Value (Integer)"
   ]
  },
  {
   "attachments": {},
   "cell_type": "markdown",
   "id": "fab43c83-35cd-40c4-b67d-71d94408987f",
   "metadata": {},
   "source": [
    "Question 2 - What is the difference between string and variable?\n",
    "\n",
    "Answer - STRINGS - Strings are the characters which are enclosed between single quotes('') or double quotes(\"\").\n",
    "         Example- \"Shreyanshu\", \"22\", \"-23.25\" etc.\n",
    "         VARIABLE - Variable is a location (or in layman terms we can say container or box) which is used to store data or value in memory. In                     python, Variables are dynamically typed.\n",
    "         Example- a=10 (here a is variable containing value 10 in it)"
   ]
  },
  {
   "attachments": {},
   "cell_type": "markdown",
   "id": "c3a58910-6f40-41a7-beb0-667fdea3a6d5",
   "metadata": {},
   "source": [
    "Question 3 - Describe three different data types.\n",
    "\n",
    "Answer-\n",
    "1) Strings - Strings are the characters which are enclosed between single quotes('') or double quotes(\"\"). Example- \"Shreyanshu\", \"22\", \"-23.25\" etc.\n",
    "\n",
    "2) Integers - They are the all the integers in maths including positive and negative numbers but does not include fraction and decimals. Examples- 22, 29, -56, 0, etc.\n",
    "\n",
    "3) Floats - These are decimal numbers and include both postive and negative numbers. Example- 22.23, 29.36, -98.65, etc."
   ]
  },
  {
   "attachments": {},
   "cell_type": "markdown",
   "id": "10838238-724e-4802-ac27-e79fe4bb4628",
   "metadata": {},
   "source": [
    "Question 4 - What is an expression made up of? What do all expressions do?\n",
    "\n",
    "Answer - An expression is made up of valid combinations of operators, variables, literals, etc.\n",
    "         All expressions evaluate the data (or values or input) by the use of the operators present in the expression. If there is more than one operator in the expression, operator which has higher priority will be executed first."
   ]
  },
  {
   "attachments": {},
   "cell_type": "markdown",
   "id": "ad1b7954-cf65-4bdc-8d1c-71756ff2cfbd",
   "metadata": {},
   "source": [
    "Question 5 - This assignment statements, like spam = 10. What is the difference between an expression and a statement?\n",
    "\n",
    "Answer - An expression contains only operators, variables and literals while a statement is a logical instructions written which a python interpreter can read, understand and execute. It can contain lines as well which an expression does not. Also, all expressions are statements."
   ]
  },
  {
   "attachments": {},
   "cell_type": "markdown",
   "id": "25069422-10f6-4e44-a374-9fa529b21ec4",
   "metadata": {},
   "source": [
    "Question 6 - After running the following code, what does the variable bacon contain?\n",
    "             bacon = 22\n",
    "             bacon + 1\n",
    "\n",
    "Answer - I have run the code in below cell\n",
    "\n",
    "         As observed the value of bacon is 22 and it does not change. The reason is because in the second line \"bacon + 1\" the value of \"bacon + 1\" is not assigned to bacon so that's why while printing, it takes the previous value as output i.e 22"
   ]
  },
  {
   "cell_type": "code",
   "execution_count": 7,
   "id": "130d1b36-872a-4af5-8428-084de4b5b05d",
   "metadata": {},
   "outputs": [
    {
     "name": "stdout",
     "output_type": "stream",
     "text": [
      "22\n"
     ]
    }
   ],
   "source": [
    "bacon = 22\n",
    "bacon + 1\n",
    "print(bacon)"
   ]
  },
  {
   "attachments": {},
   "cell_type": "markdown",
   "id": "a4b6fc21-11ac-4551-bdb5-4bd4f17b2c99",
   "metadata": {},
   "source": [
    "Question 7 - What should the values of the following two terms be?\n",
    "             'spam' + 'spamspam'\n",
    "             'spam' * 3\n",
    "\n",
    "Answers - I have run the code in below cells for above two terms- \n",
    "\n",
    "          As observed, both the terms gave the same output."
   ]
  },
  {
   "cell_type": "code",
   "execution_count": 5,
   "id": "8d38426f-00ec-4999-b135-0a73d35e3b35",
   "metadata": {},
   "outputs": [
    {
     "data": {
      "text/plain": [
       "'spamspamspam'"
      ]
     },
     "execution_count": 5,
     "metadata": {},
     "output_type": "execute_result"
    }
   ],
   "source": [
    "'spam' + 'spamspam'"
   ]
  },
  {
   "cell_type": "code",
   "execution_count": 6,
   "id": "f0901cf9-26c3-4811-a53f-a0bf49412574",
   "metadata": {},
   "outputs": [
    {
     "data": {
      "text/plain": [
       "'spamspamspam'"
      ]
     },
     "execution_count": 6,
     "metadata": {},
     "output_type": "execute_result"
    }
   ],
   "source": [
    "'spam' * 3"
   ]
  },
  {
   "attachments": {},
   "cell_type": "markdown",
   "id": "6a9719c7-5849-4562-b933-e41fdb92c1b1",
   "metadata": {},
   "source": [
    "Question 8 - Why is eggs a valid variable name while 100 is invalid?\n",
    "\n",
    "Answer - While using identifiers we have certain rules like\n",
    "         a) we can have small case alphabets(a-z), large case alphabets(A-Z), digits(0-9) and underscore(_) in the identifiers\n",
    "         b) we can never start with digits\n",
    "         c) we can never have keywords as identifiers\n",
    "         \n",
    "That's the reason egg is a valid variable and 100 is not."
   ]
  },
  {
   "attachments": {},
   "cell_type": "markdown",
   "id": "7a6563d6-62b3-4cf9-a80a-4cb8fb7fb218",
   "metadata": {},
   "source": [
    "Question 9 -What three functions can be used to get the integer, floating-point number, or string version of a value?\n",
    "\n",
    "Answer - 1) FLOATING POINT NUMBER - The python float() function returs a floating-point number from a integer or string.\n",
    "         2) INTEGER - The python int() function returs a integer from a floating-point number or string.\n",
    "         3) STRING -The python str() converts a specified value into a string.\n",
    "         \n",
    "         I HAVE EXECUTED ALL THE CODES IN THE BELOW CELL FOR ILLUSTRATIONS."
   ]
  },
  {
   "cell_type": "code",
   "execution_count": 35,
   "id": "cbb4e88c-330b-4887-88f1-5ce7f0e6af5b",
   "metadata": {},
   "outputs": [
    {
     "name": "stdout",
     "output_type": "stream",
     "text": [
      "9.0\n",
      "25.26\n",
      "9\n",
      "25\n"
     ]
    },
    {
     "data": {
      "text/plain": [
       "'9'"
      ]
     },
     "execution_count": 35,
     "metadata": {},
     "output_type": "execute_result"
    }
   ],
   "source": [
    "#CONVERSION TO FLOATING POINT NUMBER\n",
    "\n",
    "print(float(9))      #from integer to float\n",
    "print(float(\"25.26\"))   #from string to float\n",
    "\n",
    "\n",
    "#CONVERSION TO INTEGER VALUE\n",
    "\n",
    "print(int(9.8))      #from float to integer\n",
    "print(int(\"25\"))   #from string to integer\n",
    "\n",
    "\n",
    "#CONVERSION TO STRING\n",
    "\n",
    "str(9)          #from integer to string"
   ]
  },
  {
   "attachments": {},
   "cell_type": "markdown",
   "id": "77c8bab7-496e-40c1-911a-578b8642628f",
   "metadata": {},
   "source": [
    "Question 10 - Why does this expression cause an error? How can you fix it?\n",
    "                  'I have eaten' + 99 + 'burritos.'\n",
    "\n",
    "Answer - Here we can not add string with integer so we have to convert integer into string first.\n",
    "                  'I have eaten' + ' 99 ' + 'burritos.'\n",
    "         Now if we run this expression it will not show error.\n",
    "         \n",
    "         I have shown both expressions while running in below cells"
   ]
  },
  {
   "cell_type": "code",
   "execution_count": 2,
   "id": "fe2ca8dc-e621-4865-b5bd-03a55b7226d9",
   "metadata": {},
   "outputs": [
    {
     "ename": "TypeError",
     "evalue": "can only concatenate str (not \"int\") to str",
     "output_type": "error",
     "traceback": [
      "\u001b[0;31m---------------------------------------------------------------------------\u001b[0m",
      "\u001b[0;31mTypeError\u001b[0m                                 Traceback (most recent call last)",
      "Cell \u001b[0;32mIn [2], line 1\u001b[0m\n\u001b[0;32m----> 1\u001b[0m \u001b[38;5;124;43m'\u001b[39;49m\u001b[38;5;124;43mI have eaten\u001b[39;49m\u001b[38;5;124;43m'\u001b[39;49m\u001b[43m \u001b[49m\u001b[38;5;241;43m+\u001b[39;49m\u001b[43m \u001b[49m\u001b[38;5;241;43m99\u001b[39;49m \u001b[38;5;241m+\u001b[39m \u001b[38;5;124m'\u001b[39m\u001b[38;5;124mburritos.\u001b[39m\u001b[38;5;124m'\u001b[39m\n",
      "\u001b[0;31mTypeError\u001b[0m: can only concatenate str (not \"int\") to str"
     ]
    }
   ],
   "source": [
    "'I have eaten' + 99 + 'burritos.'"
   ]
  },
  {
   "cell_type": "code",
   "execution_count": 2,
   "id": "1d60cadf-cb36-4119-b0ce-3514a209ab87",
   "metadata": {},
   "outputs": [
    {
     "data": {
      "text/plain": [
       "'I have eaten 99 burritos.'"
      ]
     },
     "execution_count": 2,
     "metadata": {},
     "output_type": "execute_result"
    }
   ],
   "source": [
    "'I have eaten' + ' 99 ' + 'burritos.'"
   ]
  }
 ],
 "metadata": {
  "kernelspec": {
   "display_name": "Python 3 (ipykernel)",
   "language": "python",
   "name": "python3"
  },
  "language_info": {
   "codemirror_mode": {
    "name": "ipython",
    "version": 3
   },
   "file_extension": ".py",
   "mimetype": "text/x-python",
   "name": "python",
   "nbconvert_exporter": "python",
   "pygments_lexer": "ipython3",
   "version": "3.10.6"
  }
 },
 "nbformat": 4,
 "nbformat_minor": 5
}
